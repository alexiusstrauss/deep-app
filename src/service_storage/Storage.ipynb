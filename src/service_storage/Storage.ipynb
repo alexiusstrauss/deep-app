{
 "cells": [
  {
   "cell_type": "code",
   "execution_count": 5,
   "id": "e8938dd6",
   "metadata": {},
   "outputs": [],
   "source": [
    "from unittest import mock"
   ]
  },
  {
   "cell_type": "code",
   "execution_count": 3,
   "id": "0ce612e1",
   "metadata": {},
   "outputs": [],
   "source": [
    "from google.cloud import storage"
   ]
  },
  {
   "cell_type": "code",
   "execution_count": 7,
   "id": "7999a7ed",
   "metadata": {},
   "outputs": [],
   "source": [
    "client = mock.create_autospec(storage.Client, instance=True)\n",
    "bucket = mock."
   ]
  },
  {
   "cell_type": "code",
   "execution_count": 9,
   "id": "96bbac6b",
   "metadata": {},
   "outputs": [],
   "source": [
    "buckets = client.list_buckets()"
   ]
  },
  {
   "cell_type": "code",
   "execution_count": 10,
   "id": "a662abe8",
   "metadata": {},
   "outputs": [
    {
     "data": {
      "text/plain": [
       "<MagicMock name='mock.list_buckets()' id='139855053481440'>"
      ]
     },
     "execution_count": 10,
     "metadata": {},
     "output_type": "execute_result"
    }
   ],
   "source": [
    "buckets"
   ]
  }
 ],
 "metadata": {
  "kernelspec": {
   "display_name": "Python 3 (ipykernel)",
   "language": "python",
   "name": "python3"
  },
  "language_info": {
   "codemirror_mode": {
    "name": "ipython",
    "version": 3
   },
   "file_extension": ".py",
   "mimetype": "text/x-python",
   "name": "python",
   "nbconvert_exporter": "python",
   "pygments_lexer": "ipython3",
   "version": "3.8.10"
  }
 },
 "nbformat": 4,
 "nbformat_minor": 5
}
