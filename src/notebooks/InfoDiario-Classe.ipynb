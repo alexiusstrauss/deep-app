{
 "cells": [
  {
   "cell_type": "code",
   "execution_count": 1,
   "id": "cc99608b",
   "metadata": {},
   "outputs": [],
   "source": [
    "from cvm import CKANDataSet\n",
    "versoes = ['201801', '201802', '201803', '201804', '201805', '201806', '201807']"
   ]
  },
  {
   "cell_type": "code",
   "execution_count": 3,
   "id": "9d49c395",
   "metadata": {},
   "outputs": [
    {
     "name": "stdout",
     "output_type": "stream",
     "text": [
      "Dados salvos no Banco de dados\n",
      "Arquivo: inf_diario_fi_201801.csv deletado\n",
      "Dados salvos no Banco de dados\n",
      "Arquivo: inf_diario_fi_201802.csv deletado\n",
      "Dados salvos no Banco de dados\n",
      "Arquivo: inf_diario_fi_201803.csv deletado\n",
      "Dados salvos no Banco de dados\n",
      "Arquivo: inf_diario_fi_201804.csv deletado\n",
      "Dados salvos no Banco de dados\n",
      "Arquivo: inf_diario_fi_201805.csv deletado\n",
      "Dados salvos no Banco de dados\n",
      "Arquivo: inf_diario_fi_201806.csv deletado\n",
      "Dados salvos no Banco de dados\n",
      "Arquivo: inf_diario_fi_201807.csv deletado\n",
      "Processo finalizado\n"
     ]
    }
   ],
   "source": [
    "if len(versoes):\n",
    "    for versao in versoes:\n",
    "        url = f\"http://dados.cvm.gov.br/dados/FI/DOC/INF_DIARIO/DADOS/inf_diario_fi_{versao}.csv\"\n",
    "        file_name = f\"inf_diario_fi_{versao}.csv\"\n",
    "        ckan = CKANDataSet(url, file_name)\n",
    "        ckan.download()\n",
    "        ckan.open_file()\n",
    "        ckan.process_file()\n",
    "        if ckan.save_to_db():\n",
    "            print(\"Dados salvos no Banco de dados\")\n",
    "        if ckan.delete_local_file():\n",
    "            print(f\"Arquivo: {ckan.response.get('file_name')} deletado\")\n",
    "            \n",
    "    print(\"Processo finalizado\")\n",
    "        "
   ]
  }
 ],
 "metadata": {
  "kernelspec": {
   "display_name": "Python 3 (ipykernel)",
   "language": "python",
   "name": "python3"
  },
  "language_info": {
   "codemirror_mode": {
    "name": "ipython",
    "version": 3
   },
   "file_extension": ".py",
   "mimetype": "text/x-python",
   "name": "python",
   "nbconvert_exporter": "python",
   "pygments_lexer": "ipython3",
   "version": "3.8.10"
  }
 },
 "nbformat": 4,
 "nbformat_minor": 5
}
