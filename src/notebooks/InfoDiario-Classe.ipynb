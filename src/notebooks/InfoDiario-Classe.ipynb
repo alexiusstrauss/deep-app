{
 "cells": [
  {
   "cell_type": "code",
   "execution_count": 1,
   "id": "a5ecd22f",
   "metadata": {},
   "outputs": [],
   "source": [
    "def generate_versions(initialYear: int, initialMonth: int):\n",
    "    lista = []\n",
    "    from datetime import datetime\n",
    "    today = datetime.today()\n",
    "    for year in range(initialYear, today.year+1):\n",
    "        for month in range(initialMonth, 13):\n",
    "            if month > today.month and year == today.year:\n",
    "                break\n",
    "            else:\n",
    "                month = str(month)\n",
    "                lista.append(f'{year}{month.zfill(2)}')\n",
    "    return lista"
   ]
  },
  {
   "cell_type": "code",
   "execution_count": 2,
   "id": "d1d8c81b",
   "metadata": {},
   "outputs": [],
   "source": [
    "from cvm import CKANDataSet\n",
    "versoes = generate_versions(2022, 1)"
   ]
  },
  {
   "cell_type": "code",
   "execution_count": 3,
   "id": "6715a2d5",
   "metadata": {},
   "outputs": [
    {
     "name": "stdout",
     "output_type": "stream",
     "text": [
      "mkdir: não foi possível criar o diretório “tmp”: Arquivo existe\r\n"
     ]
    }
   ],
   "source": [
    "mkdir tmp"
   ]
  },
  {
   "cell_type": "code",
   "execution_count": 4,
   "id": "2cdaaa16",
   "metadata": {},
   "outputs": [
    {
     "name": "stdout",
     "output_type": "stream",
     "text": [
      "Dados salvos no Banco de dados\n",
      "Arquivo: inf_diario_fi_202201.csv deletado\n",
      "==========================================\n",
      "Dados salvos no Banco de dados\n",
      "Arquivo: inf_diario_fi_202202.csv deletado\n",
      "==========================================\n",
      "Dados salvos no Banco de dados\n",
      "Arquivo: inf_diario_fi_202203.csv deletado\n",
      "==========================================\n",
      "Processo finalizado\n"
     ]
    }
   ],
   "source": [
    "if len(versoes):\n",
    "    for versao in versoes:\n",
    "        url = f\"http://dados.cvm.gov.br/dados/FI/DOC/INF_DIARIO/DADOS/inf_diario_fi_{versao}.csv\"\n",
    "        file_name = f\"inf_diario_fi_{versao}.csv\"\n",
    "        ckan = CKANDataSet(url, file_name)\n",
    "        ckan.download()\n",
    "        ckan.open_file()\n",
    "        ckan.process_file()\n",
    "        if ckan.save_to_db():\n",
    "            print(\"Dados salvos no Banco de dados\")\n",
    "        if ckan.delete_local_file():\n",
    "            print(f\"Arquivo: {ckan.response.get('file_name')} deletado\")\n",
    "        print(\"==========================================\")\n",
    "            \n",
    "    print(\"Processo finalizado\")\n",
    "        "
   ]
  }
 ],
 "metadata": {
  "kernelspec": {
   "display_name": "Python 3 (ipykernel)",
   "language": "python",
   "name": "python3"
  },
  "language_info": {
   "codemirror_mode": {
    "name": "ipython",
    "version": 3
   },
   "file_extension": ".py",
   "mimetype": "text/x-python",
   "name": "python",
   "nbconvert_exporter": "python",
   "pygments_lexer": "ipython3",
   "version": "3.8.10"
  }
 },
 "nbformat": 4,
 "nbformat_minor": 5
}
