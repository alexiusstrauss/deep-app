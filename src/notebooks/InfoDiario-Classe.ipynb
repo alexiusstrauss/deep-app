{
 "cells": [
  {
   "cell_type": "code",
   "execution_count": 1,
   "id": "d1d8c81b",
   "metadata": {},
   "outputs": [],
   "source": [
<<<<<<< HEAD
    "from cvm import CKANDataSet\n",
=======
    "from cvm import CKANDataSet, generate_versions, start_hunter\n",
>>>>>>> f1cbfb058ce8ce1eb82704415e2aaec24330746c
    "versoes = generate_versions(2022, 1)"
   ]
  },
  {
   "cell_type": "code",
   "execution_count": 2,
   "id": "6715a2d5",
   "metadata": {},
   "outputs": [
    {
     "name": "stdout",
     "output_type": "stream",
     "text": [
      "mkdir: não foi possível criar o diretório “tmp”: Arquivo existe\r\n"
     ]
    }
   ],
   "source": [
    "mkdir tmp"
   ]
  },
  {
   "cell_type": "code",
   "execution_count": 3,
   "id": "2cdaaa16",
   "metadata": {},
   "outputs": [
    {
     "name": "stdout",
     "output_type": "stream",
     "text": [
<<<<<<< HEAD
=======
      "\n",
      "==========================================\n",
      ".__                      __                   \n",
      "|  |__   __ __   ____  _/  |_   ____  _______ \n",
      "|  |  \\ |  |  \\ /    \\ \\   __\\_/ __ \\ \\_  __ \\ \n",
      "|   Y  \\|  |  /|   |  \\ |  |  \\  ___/  |  | \\/\n",
      "|___|  /|____/ |___|  / |__|   \\___  > |__|   \n",
      "    \\/             \\/             \\/         \n",
      "\n",
      "==========================================    \n",
      "    \n",
      "Total de 3 versões a serem tratadaas.\n",
      "Iniciando processo...\n",
>>>>>>> f1cbfb058ce8ce1eb82704415e2aaec24330746c
      "Dados salvos no Banco de dados\n",
      "Arquivo: inf_diario_fi_202201.csv deletado\n",
      "==========================================\n",
      "Dados salvos no Banco de dados\n",
      "Arquivo: inf_diario_fi_202202.csv deletado\n",
      "==========================================\n",
      "Dados salvos no Banco de dados\n",
      "Arquivo: inf_diario_fi_202203.csv deletado\n",
      "==========================================\n",
      "Processo finalizado\n"
     ]
    }
   ],
   "source": [
    "if len(versoes):\n",
    "    start_hunter(versoes)\n",
    "    for versao in versoes:\n",
    "        url = f\"http://dados.cvm.gov.br/dados/FI/DOC/INF_DIARIO/DADOS/inf_diario_fi_{versao}.csv\"\n",
    "        file_name = f\"inf_diario_fi_{versao}.csv\"\n",
    "        ckan = CKANDataSet(url, file_name)\n",
    "        ckan.download()\n",
    "        ckan.open_file()\n",
    "        ckan.process_file()\n",
    "        if ckan.save_to_db():\n",
    "            print(\"Dados salvos no Banco de dados\")\n",
    "        if ckan.delete_local_file():\n",
    "            print(f\"Arquivo: {ckan.response.get('file_name')} deletado\")\n",
    "        print(\"==========================================\")\n",
    "            \n",
    "    print(\"Processo finalizado\")\n",
    "        "
   ]
  }
 ],
 "metadata": {
  "kernelspec": {
   "display_name": "Python 3 (ipykernel)",
   "language": "python",
   "name": "python3"
  },
  "language_info": {
   "codemirror_mode": {
    "name": "ipython",
    "version": 3
   },
   "file_extension": ".py",
   "mimetype": "text/x-python",
   "name": "python",
   "nbconvert_exporter": "python",
   "pygments_lexer": "ipython3",
   "version": "3.8.10"
  }
 },
 "nbformat": 4,
 "nbformat_minor": 5
}
