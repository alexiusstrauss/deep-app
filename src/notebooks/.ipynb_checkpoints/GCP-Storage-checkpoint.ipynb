{
 "cells": [
  {
   "cell_type": "code",
   "execution_count": 1,
   "id": "f958f55b",
   "metadata": {},
   "outputs": [],
   "source": [
    "import io\n",
    "from PIL import Image\n",
    "\n",
    "from service_storage import ServiceStorage\n",
    "from google.cloud import storage\n",
    "S4_BUCKET_NAME = \"s4_pdf_buckets\"\n",
    "PATH_TO_TEST = \"farm/00010/00010/avatar.jpg\"\n",
    "\n",
    "# Set bucket public # Dados do usuário.\n",
    "# ServiceStorage.set_bucket_public_iam(S4_BUCKET_NAME)"
   ]
  },
  {
   "cell_type": "code",
   "execution_count": 2,
   "id": "aa2f4f3f",
   "metadata": {},
   "outputs": [
    {
     "name": "stdout",
     "output_type": "stream",
     "text": [
      "agriness-report-api-dev\n",
      "agriness-report-api-load\n",
      "agriness-report-api-migration\n",
      "ais-development\n",
      "alexius_test\n",
      "bucket_test_alexius\n",
      "integration-layers\n",
      "presence-uploads\n",
      "s4_backend_dump\n",
      "s4_pdf_buckets\n",
      "us-east1-claytonteste001-ab4b8d40-bucket\n"
     ]
    }
   ],
   "source": [
    "buckets = ServiceStorage.list_buckets()\n",
    "for bucket in buckets:\n",
    "    print(bucket.name)"
   ]
  },
  {
   "cell_type": "code",
   "execution_count": 3,
   "id": "29a74e1b",
   "metadata": {},
   "outputs": [],
   "source": [
    "# lista blobs no storage\n",
    "\n",
    "s4_pdf_bucket = ServiceStorage.get_bucket(S4_BUCKET_NAME)\n",
    "blobs = s4_pdf_bucket.list_blobs()\n",
    "for b in blobs:\n",
    "    print(b)"
   ]
  },
  {
   "cell_type": "code",
   "execution_count": 4,
   "id": "95d8cf2f",
   "metadata": {},
   "outputs": [
    {
     "name": "stdout",
     "output_type": "stream",
     "text": [
      "ID: s4_new_buckets_test\n",
      "Name: s4_new_buckets_test\n",
      "Location: US\n",
      "Self Link: https://www.googleapis.com/storage/v1/b/s4_new_buckets_test\n",
      "Self time created: 2022-03-18 18:49:41.389000+00:00\n",
      "Bucket Exists: True\n",
      "Bucket deletado?: True\n"
     ]
    }
   ],
   "source": [
    "s4_pdf_bucket = ServiceStorage.get_bucket(S4_BUCKET_NAME)\n",
    "# Testando criar um bucket caso ele nao exista:::\n",
    "BUCKET_TEST_NAME = \"s4_new_buckets_test\"\n",
    "new_bucket_test = ServiceStorage.get_bucket(BUCKET_TEST_NAME)\n",
    "\n",
    "print(f\"ID: {new_bucket_test.id}\")\n",
    "print(f\"Name: {new_bucket_test.name}\")\n",
    "print(f\"Location: {new_bucket_test.location}\")\n",
    "print(f\"Self Link: {new_bucket_test.self_link}\")\n",
    "print(f\"Self time created: {new_bucket_test.time_created}\")\n",
    "print(f\"Bucket Exists: {new_bucket_test.exists()}\")\n",
    "\n",
    "# Deleta o bucket de teste\n",
    "new_bucket_test.delete()\n",
    "\n",
    "# VErifica se existe o bucket novamente\n",
    "client_storage = storage.Client()\n",
    "print(f\"Bucket deletado?: {not storage.Bucket(client_storage, BUCKET_TEST_NAME).exists()}\")"
   ]
  },
  {
   "cell_type": "code",
   "execution_count": 5,
   "id": "7bc6ce1d",
   "metadata": {},
   "outputs": [
    {
     "name": "stdout",
     "output_type": "stream",
     "text": [
      "ID: s4_pdf_buckets\n",
      "Name: s4_pdf_buckets\n",
      "Location: US\n",
      "Self Link: https://www.googleapis.com/storage/v1/b/s4_pdf_buckets\n",
      "Self time created: 2022-03-16 20:40:28.247000+00:00\n",
      "Bucket Exists: True\n"
     ]
    }
   ],
   "source": [
    "print(f\"ID: {s4_pdf_bucket.id}\")\n",
    "print(f\"Name: {s4_pdf_bucket.name}\")\n",
    "print(f\"Location: {s4_pdf_bucket.location}\")\n",
    "print(f\"Self Link: {s4_pdf_bucket.self_link}\")\n",
    "print(f\"Self time created: {s4_pdf_bucket.time_created}\")\n",
    "print(f\"Bucket Exists: {s4_pdf_bucket.exists()}\")"
   ]
  },
  {
   "cell_type": "code",
   "execution_count": 6,
   "id": "71ee41ca",
   "metadata": {},
   "outputs": [
    {
     "name": "stdout",
     "output_type": "stream",
     "text": [
      "ID: s4_pdf_buckets/farm/00010/00010/avatar.jpg/1647629391904154\n",
      "Name: farm/00010/00010/avatar.jpg\n",
      "Public link: https://storage.googleapis.com/s4_pdf_buckets/farm/00010/00010/avatar.jpg\n",
      "Time created: 2022-03-18 18:49:51.949000+00:00\n",
      "Blob Exists: True\n"
     ]
    }
   ],
   "source": [
    "# Criando arquivo em byte para testar o envio e deletar do bucket\n",
    "im = Image.open(\"avatar.jpg\")\n",
    "bs = io.BytesIO()\n",
    "im.save(bs, \"jpeg\")\n",
    "\n",
    "blob = ServiceStorage.save_to_storage(\n",
    "    S4_BUCKET_NAME,\n",
    "    bs.getvalue(),\n",
    "    PATH_TO_TEST,\n",
    "    \"image/jpeg\",\n",
    ")\n",
    "\n",
    "print(f\"ID: {blob.id}\")\n",
    "print(f\"Name: {blob.name}\")\n",
    "print(f\"Public link: {blob.public_url}\")\n",
    "print(f\"Time created: {blob.time_created}\")\n",
    "print(f\"Blob Exists: {blob.exists()}\")"
   ]
  },
  {
   "cell_type": "code",
   "execution_count": null,
   "id": "90049464",
   "metadata": {},
   "outputs": [],
   "source": [
    "# Deleta um blob\n",
    "# create_path_storage = PATH_TO_TEST\n",
    "print(ServiceStorage.delete_file(S4_BUCKET_NAME, PATH_TO_TEST))"
   ]
  },
  {
   "cell_type": "code",
   "execution_count": null,
   "id": "74707606",
   "metadata": {},
   "outputs": [],
   "source": []
  }
 ],
 "metadata": {
  "kernelspec": {
   "display_name": "Python 3 (ipykernel)",
   "language": "python",
   "name": "python3"
  },
  "language_info": {
   "codemirror_mode": {
    "name": "ipython",
    "version": 3
   },
   "file_extension": ".py",
   "mimetype": "text/x-python",
   "name": "python",
   "nbconvert_exporter": "python",
   "pygments_lexer": "ipython3",
   "version": "3.8.10"
  }
 },
 "nbformat": 4,
 "nbformat_minor": 5
}
