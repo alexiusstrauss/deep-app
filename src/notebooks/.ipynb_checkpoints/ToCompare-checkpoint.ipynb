{
 "cells": [
  {
   "cell_type": "code",
   "execution_count": 5,
   "id": "746be41f",
   "metadata": {},
   "outputs": [],
   "source": [
    "token = \"eyJhbGciOiJIUzUxMiIsInR5cCI6IkpXVCJ9.eyJzdWIiOiI2MjJmNWY2ZjQyMmUzYTAwMjNjZGQyOTIiLCJpc3MiOiJNWiBHcm91cCIsImV4cCI6MTY0NzYyMjQ4NCwiaWF0IjoxNjQ3NDQ5Njg0LCJhdWQiOiJNWiBDb3JlIiwibmFtZSI6IkFsZXhpdXMgTWFycXVlcyIsImVtYWlsIjoiYWxleGl1cy5tYXJxdWVzQG16Z3JvdXAuY29tIiwicmtleSI6ImNvcmU6dXNlcjo2MjJmNWY2ZjQyMmUzYTAwMjNjZGQyOTI6ZGV2aWNlOmVhM2ZkZTE2YWRiYjIxYzc5NmRjOWFlN2UzZjI4MmZjOjE3ZjlmNmZjM2YyOTQ4OWFhMjU2YzliMzMyYjIxZmFhNmI3MGFlOWU3MWZmNDdjM2I3NzU2MGY1N2EzMTk2YmQiLCJsZWdhY3lVc2VySWQiOiJlYWVjOWQ0NC1lMTFiLTQyNGItYTYzZi1jOTc3ZjE0N2Q4MDQiLCJkZXZpY2VJZCI6ImVhM2ZkZTE2YWRiYjIxYzc5NmRjOWFlN2UzZjI4MmZjIiwiY3VzdG9tZXIiOnsiaWQiOiI1ZjVhNDJiNDI4M2RmOTAxYWUxN2VmNTUiLCJ2YWx1ZSI6IkFSWCBJbnZlc3RpbWVudG9zIiwiZGlzcGxheU5hbWUiOiJBUlggSW52ZXN0aW1lbnRvcyIsImxlZ2FjeUNvbXBhbnlJZCI6ImM4N2ZkNmQxLTc0MTctNDk0Mi05MWJjLWQ5OTUwNjUwYjlmNyIsImxlZ2FjeUlkIjoiYzg3ZmQ2ZDEtNzQxNy00OTQyLTkxYmMtZDk5NTA2NTBiOWY3In19.3wik5RvFnyD8pZfXCWIIlpiR08ddhDVu5GwbSFog8tXwGn7oUGJj7fxHWkzuigAzIurxd_G3ZxVb6qVUtWL-DQ\"\n",
    "fund_id = \"60b03acdfd66c40018bfecce\"\n",
    "fund_doc = \"31353579000108\"\n",
    "start_date = \"2018-12-03\"\n",
    "end_date = \"2021-05-15\""
   ]
  },
  {
   "cell_type": "code",
   "execution_count": 6,
   "id": "108ad0d5",
   "metadata": {},
   "outputs": [],
   "source": [
    "from compare import MZTools"
   ]
  },
  {
   "cell_type": "code",
   "execution_count": 7,
   "id": "61f36f29",
   "metadata": {},
   "outputs": [],
   "source": [
    "mz = MZTools(fund_id, fund_doc, start_date, end_date, token)"
   ]
  },
  {
   "cell_type": "code",
   "execution_count": 8,
   "id": "58897dff",
   "metadata": {},
   "outputs": [
    {
     "name": "stdout",
     "output_type": "stream",
     "text": [
      "11.12422\n",
      "11.12422\n"
     ]
    },
    {
     "data": {
      "text/plain": [
       "True"
      ]
     },
     "execution_count": 8,
     "metadata": {},
     "output_type": "execute_result"
    }
   ],
   "source": [
    "print(mz.get_acumulado_mzqi())\n",
    "print(mz.get_acumulado_cvm())\n",
    "mz.compare_data()"
   ]
  }
 ],
 "metadata": {
  "kernelspec": {
   "display_name": "Python 3 (ipykernel)",
   "language": "python",
   "name": "python3"
  },
  "language_info": {
   "codemirror_mode": {
    "name": "ipython",
    "version": 3
   },
   "file_extension": ".py",
   "mimetype": "text/x-python",
   "name": "python",
   "nbconvert_exporter": "python",
   "pygments_lexer": "ipython3",
   "version": "3.8.10"
  }
 },
 "nbformat": 4,
 "nbformat_minor": 5
}
