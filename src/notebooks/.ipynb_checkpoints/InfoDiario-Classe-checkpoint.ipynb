{
 "cells": [
  {
   "cell_type": "code",
   "execution_count": 1,
   "id": "2ff94968",
   "metadata": {},
   "outputs": [],
   "source": [
    "from cvm import CKANDataSet\n",
    "versoes = ['201801', '201802', '201803', '201804', '201805', '201806', '201807']"
   ]
  },
  {
   "cell_type": "code",
   "execution_count": 2,
   "id": "0d2322cc",
   "metadata": {},
   "outputs": [
    {
     "ename": "SyntaxError",
     "evalue": "invalid syntax (2338718366.py, line 12)",
     "output_type": "error",
     "traceback": [
      "\u001b[0;36m  Input \u001b[0;32mIn [2]\u001b[0;36m\u001b[0m\n\u001b[0;31m    print(f\"Arquivo: {ckan.response.get(\"file_name\")} deletado\")\u001b[0m\n\u001b[0m                                         ^\u001b[0m\n\u001b[0;31mSyntaxError\u001b[0m\u001b[0;31m:\u001b[0m invalid syntax\n"
     ]
    }
   ],
   "source": [
    "if len(versoes):\n",
    "    for versao in versoes:\n",
    "        url = f\"http://dados.cvm.gov.br/dados/FI/DOC/INF_DIARIO/DADOS/inf_diario_fi_{versao}.csv\"\n",
    "        file_name = f\"inf_diario_fi_{versao}.csv\"\n",
    "        ckan = CKANDataSet(url, file_name)\n",
    "        ckan.download()\n",
    "        ckan.open_file()\n",
    "        ckan.process_file()\n",
    "        if ckan.save_to_db():\n",
    "            print(\"Dados salvos no Banco de dados\")\n",
    "        if ckan.delete_local_file():\n",
    "            print(f\"Arquivo: {ckan.response.get('file_name')} deletado\")\n",
    "            \n",
    "    print(\"Processo finalizado\")\n",
    "        "
   ]
  }
 ],
 "metadata": {
  "kernelspec": {
   "display_name": "Python 3 (ipykernel)",
   "language": "python",
   "name": "python3"
  },
  "language_info": {
   "codemirror_mode": {
    "name": "ipython",
    "version": 3
   },
   "file_extension": ".py",
   "mimetype": "text/x-python",
   "name": "python",
   "nbconvert_exporter": "python",
   "pygments_lexer": "ipython3",
   "version": "3.8.10"
  }
 },
 "nbformat": 4,
 "nbformat_minor": 5
}
