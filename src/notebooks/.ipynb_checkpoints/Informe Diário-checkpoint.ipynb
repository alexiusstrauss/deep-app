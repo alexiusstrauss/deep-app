{
 "cells": [
  {
   "cell_type": "code",
   "execution_count": 16,
   "id": "eae4b065",
   "metadata": {},
   "outputs": [],
   "source": [
    "# Tratamento do arquivo inf_diario e gravando dados no banco."
   ]
  },
  {
   "cell_type": "code",
   "execution_count": 2,
   "id": "23113990",
   "metadata": {},
   "outputs": [],
   "source": [
    "import os\n",
    "from zipfile import ZipFile\n",
    "import requests\n",
    "import re"
   ]
  },
  {
   "cell_type": "code",
   "execution_count": 1,
   "id": "e1c48a2f",
   "metadata": {},
   "outputs": [],
   "source": [
    "param_dic = {\n",
    "    \"host\"      : \"localhost\",\n",
    "    \"database\"  : \"postgres\",\n",
    "    \"user\"      : \"postgres\",\n",
    "    \"password\"  : \"postgres\"\n",
    "}"
   ]
  },
  {
   "cell_type": "code",
   "execution_count": 3,
   "id": "c81111df",
   "metadata": {},
   "outputs": [],
   "source": [
    "url = \"http://dados.cvm.gov.br/dados/FI/DOC/INF_DIARIO/DADOS/inf_diario_fi_202103.csv\"\n",
    "file_name = \"inf_diario_fi_202103.csv\"\n",
    "temp_dir = \"tmp\"\n"
   ]
  },
  {
   "cell_type": "code",
   "execution_count": 4,
   "id": "ff6d9853",
   "metadata": {},
   "outputs": [
    {
     "name": "stdout",
     "output_type": "stream",
     "text": [
      "{'file_path': 'tmp/inf_diario_fi_202103.csv', 'file_name': 'inf_diario_fi_202103.csv'}\n"
     ]
    }
   ],
   "source": [
    "def download_file(url: str, filename: str, temp_dir: str) -> dict:\n",
    "    \"\"\"\n",
    "    Download file from url and save on temp_dir\n",
    "    \"\"\"\n",
    "    temp_file = f\"{temp_dir}/{filename}\"\n",
    "    response = requests.get(url, stream=True)\n",
    "    if response.status_code == 200:\n",
    "        with open(temp_file, \"wb\") as new_file:\n",
    "            for partial in response.iter_content(chunk_size=256):\n",
    "                new_file.write(partial)\n",
    "        return {\"file_path\": temp_file, \"file_name\": filename}\n",
    "    else:\n",
    "        response.raise_for_status()\n",
    "        \n",
    "response = download_file(url, file_name, temp_dir)\n",
    "\n",
    "print(response)\n"
   ]
  },
  {
   "cell_type": "code",
   "execution_count": 5,
   "id": "584fc474",
   "metadata": {},
   "outputs": [],
   "source": [
    "def format_doc(doc):\n",
    "    '''\n",
    "        Funcão que formata CPF e CNPJ\n",
    "    '''\n",
    "    if pd.isna(doc):\n",
    "        return None\n",
    "    doc = re.sub(r\"[^0-9]\", \"\", doc)\n",
    "    return doc.zfill(14)"
   ]
  },
  {
   "cell_type": "code",
   "execution_count": 6,
   "id": "24478acb",
   "metadata": {},
   "outputs": [],
   "source": [
    "import pandas as pd\n",
    "\n",
    "def open_file(file: str):\n",
    "    return pd.read_csv(\n",
    "        file,\n",
    "        sep=\";\",\n",
    "        encoding=\"latin-1\",\n",
    "    )"
   ]
  },
  {
   "cell_type": "code",
   "execution_count": 7,
   "id": "93ea3391",
   "metadata": {},
   "outputs": [],
   "source": [
    "# Abrindo o arquivo com pandas\n",
    "df = open_file(response.get('file_path'))"
   ]
  },
  {
   "cell_type": "code",
   "execution_count": 8,
   "id": "a76bb47c",
   "metadata": {},
   "outputs": [],
   "source": [
    "# Trandando os dados do DataFrame\n",
    "# - 1 Filtrar por tipo de Fundo (Validar com Lucas)\n",
    "# - 1 Limpar dados vazios (Validar com Lucas)\n",
    "# - 2 Formatando o CPF \n",
    "\n",
    "df = df.loc[\n",
    "        (df[\"TP_FUNDO\"] == \"FI\")\n",
    "        | (df[\"TP_FUNDO\"] == \"FIP\")\n",
    "        | (df[\"TP_FUNDO\"] == \"FIIM\")\n",
    "    ]\n",
    "\n",
    "# Format documents\n",
    "df[\"CNPJ_FUNDO\"] = df[\"CNPJ_FUNDO\"].apply(format_doc)\n",
    "\n",
    "# Rename columns\n",
    "rename_map = {\n",
    "    \"CNPJ_FUNDO\": \"fund_doc\",\n",
    "    \"DT_COMPTC\": \"competency_date\",\n",
    "    \"VL_TOTAL\": \"amount\",\n",
    "    \"VL_QUOTA\": \"share_value\",\n",
    "    \"VL_PATRIM_LIQ\": \"equity_value\",\n",
    "    \"NR_COTST\": \"quotaholder_number\",\n",
    "}\n",
    "df = df.rename(columns=rename_map)\n",
    "\n",
    "# Columns to keep\n",
    "cols_keep = [\n",
    "    \"fund_doc\",\n",
    "    \"competency_date\",\n",
    "    \"amount\",\n",
    "    \"share_value\",\n",
    "    \"equity_value\",\n",
    "    \"quotaholder_number\",\n",
    "]\n",
    "df = df[cols_keep]"
   ]
  },
  {
   "cell_type": "code",
   "execution_count": 12,
   "id": "9b0b2e5f",
   "metadata": {},
   "outputs": [],
   "source": [
    "from sqlalchemy import create_engine\n",
    "connect = \"postgresql+psycopg2://%s:%s@%s:54325/%s\" % (\n",
    "    param_dic['user'],\n",
    "    param_dic['password'],\n",
    "    param_dic['host'],\n",
    "    param_dic['database']\n",
    ")\n",
    "def to_alchemy(df):\n",
    "    engine = create_engine(connect)\n",
    "    df.to_sql(\n",
    "        'cvm_ckan.fi_inf_diario', \n",
    "        con=engine, \n",
    "        index=False, \n",
    "        if_exists='replace'\n",
    "    )\n",
    "    print(\"=== to_sql() done with sqlalchemy ===\")"
   ]
  },
  {
   "cell_type": "code",
   "execution_count": 13,
   "id": "0b3e7101",
   "metadata": {},
   "outputs": [
    {
     "ename": "ModuleNotFoundError",
     "evalue": "No module named 'psycopg2'",
     "output_type": "error",
     "traceback": [
      "\u001b[0;31m---------------------------------------------------------------------------\u001b[0m",
      "\u001b[0;31mModuleNotFoundError\u001b[0m                       Traceback (most recent call last)",
      "Input \u001b[0;32mIn [13]\u001b[0m, in \u001b[0;36m<cell line: 1>\u001b[0;34m()\u001b[0m\n\u001b[0;32m----> 1\u001b[0m \u001b[43mto_alchemy\u001b[49m\u001b[43m(\u001b[49m\u001b[43mdf\u001b[49m\u001b[43m)\u001b[49m\n",
      "Input \u001b[0;32mIn [12]\u001b[0m, in \u001b[0;36mto_alchemy\u001b[0;34m(df)\u001b[0m\n\u001b[1;32m      8\u001b[0m \u001b[38;5;28;01mdef\u001b[39;00m \u001b[38;5;21mto_alchemy\u001b[39m(df):\n\u001b[0;32m----> 9\u001b[0m     engine \u001b[38;5;241m=\u001b[39m \u001b[43mcreate_engine\u001b[49m\u001b[43m(\u001b[49m\u001b[43mconnect\u001b[49m\u001b[43m)\u001b[49m\n\u001b[1;32m     10\u001b[0m     df\u001b[38;5;241m.\u001b[39mto_sql(\n\u001b[1;32m     11\u001b[0m         \u001b[38;5;124m'\u001b[39m\u001b[38;5;124mcvm_ckan.fi_inf_diario\u001b[39m\u001b[38;5;124m'\u001b[39m, \n\u001b[1;32m     12\u001b[0m         con\u001b[38;5;241m=\u001b[39mengine, \n\u001b[1;32m     13\u001b[0m         index\u001b[38;5;241m=\u001b[39m\u001b[38;5;28;01mFalse\u001b[39;00m, \n\u001b[1;32m     14\u001b[0m         if_exists\u001b[38;5;241m=\u001b[39m\u001b[38;5;124m'\u001b[39m\u001b[38;5;124mreplace\u001b[39m\u001b[38;5;124m'\u001b[39m\n\u001b[1;32m     15\u001b[0m     )\n\u001b[1;32m     16\u001b[0m     \u001b[38;5;28mprint\u001b[39m(\u001b[38;5;124m\"\u001b[39m\u001b[38;5;124m=== to_sql() done with sqlalchemy ===\u001b[39m\u001b[38;5;124m\"\u001b[39m)\n",
      "File \u001b[0;32m<string>:2\u001b[0m, in \u001b[0;36mcreate_engine\u001b[0;34m(url, **kwargs)\u001b[0m\n",
      "File \u001b[0;32m~/Workspaces/MZ/deep-app/env/lib/python3.8/site-packages/sqlalchemy/util/deprecations.py:309\u001b[0m, in \u001b[0;36mdeprecated_params.<locals>.decorate.<locals>.warned\u001b[0;34m(fn, *args, **kwargs)\u001b[0m\n\u001b[1;32m    302\u001b[0m     \u001b[38;5;28;01mif\u001b[39;00m m \u001b[38;5;129;01min\u001b[39;00m kwargs:\n\u001b[1;32m    303\u001b[0m         _warn_with_version(\n\u001b[1;32m    304\u001b[0m             messages[m],\n\u001b[1;32m    305\u001b[0m             versions[m],\n\u001b[1;32m    306\u001b[0m             version_warnings[m],\n\u001b[1;32m    307\u001b[0m             stacklevel\u001b[38;5;241m=\u001b[39m\u001b[38;5;241m3\u001b[39m,\n\u001b[1;32m    308\u001b[0m         )\n\u001b[0;32m--> 309\u001b[0m \u001b[38;5;28;01mreturn\u001b[39;00m \u001b[43mfn\u001b[49m\u001b[43m(\u001b[49m\u001b[38;5;241;43m*\u001b[39;49m\u001b[43margs\u001b[49m\u001b[43m,\u001b[49m\u001b[43m \u001b[49m\u001b[38;5;241;43m*\u001b[39;49m\u001b[38;5;241;43m*\u001b[39;49m\u001b[43mkwargs\u001b[49m\u001b[43m)\u001b[49m\n",
      "File \u001b[0;32m~/Workspaces/MZ/deep-app/env/lib/python3.8/site-packages/sqlalchemy/engine/create.py:560\u001b[0m, in \u001b[0;36mcreate_engine\u001b[0;34m(url, **kwargs)\u001b[0m\n\u001b[1;32m    558\u001b[0m         \u001b[38;5;28;01mif\u001b[39;00m k \u001b[38;5;129;01min\u001b[39;00m kwargs:\n\u001b[1;32m    559\u001b[0m             dbapi_args[k] \u001b[38;5;241m=\u001b[39m pop_kwarg(k)\n\u001b[0;32m--> 560\u001b[0m     dbapi \u001b[38;5;241m=\u001b[39m \u001b[43mdialect_cls\u001b[49m\u001b[38;5;241;43m.\u001b[39;49m\u001b[43mdbapi\u001b[49m\u001b[43m(\u001b[49m\u001b[38;5;241;43m*\u001b[39;49m\u001b[38;5;241;43m*\u001b[39;49m\u001b[43mdbapi_args\u001b[49m\u001b[43m)\u001b[49m\n\u001b[1;32m    562\u001b[0m dialect_args[\u001b[38;5;124m\"\u001b[39m\u001b[38;5;124mdbapi\u001b[39m\u001b[38;5;124m\"\u001b[39m] \u001b[38;5;241m=\u001b[39m dbapi\n\u001b[1;32m    564\u001b[0m dialect_args\u001b[38;5;241m.\u001b[39msetdefault(\u001b[38;5;124m\"\u001b[39m\u001b[38;5;124mcompiler_linting\u001b[39m\u001b[38;5;124m\"\u001b[39m, compiler\u001b[38;5;241m.\u001b[39mNO_LINTING)\n",
      "File \u001b[0;32m~/Workspaces/MZ/deep-app/env/lib/python3.8/site-packages/sqlalchemy/dialects/postgresql/psycopg2.py:782\u001b[0m, in \u001b[0;36mPGDialect_psycopg2.dbapi\u001b[0;34m(cls)\u001b[0m\n\u001b[1;32m    780\u001b[0m \u001b[38;5;129m@classmethod\u001b[39m\n\u001b[1;32m    781\u001b[0m \u001b[38;5;28;01mdef\u001b[39;00m \u001b[38;5;21mdbapi\u001b[39m(\u001b[38;5;28mcls\u001b[39m):\n\u001b[0;32m--> 782\u001b[0m     \u001b[38;5;28;01mimport\u001b[39;00m \u001b[38;5;21;01mpsycopg2\u001b[39;00m\n\u001b[1;32m    784\u001b[0m     \u001b[38;5;28;01mreturn\u001b[39;00m psycopg2\n",
      "\u001b[0;31mModuleNotFoundError\u001b[0m: No module named 'psycopg2'"
     ]
    }
   ],
   "source": [
    "to_alchemy(df)"
   ]
  }
 ],
 "metadata": {
  "kernelspec": {
   "display_name": "Python 3 (ipykernel)",
   "language": "python",
   "name": "python3"
  },
  "language_info": {
   "codemirror_mode": {
    "name": "ipython",
    "version": 3
   },
   "file_extension": ".py",
   "mimetype": "text/x-python",
   "name": "python",
   "nbconvert_exporter": "python",
   "pygments_lexer": "ipython3",
   "version": "3.8.10"
  }
 },
 "nbformat": 4,
 "nbformat_minor": 5
}
