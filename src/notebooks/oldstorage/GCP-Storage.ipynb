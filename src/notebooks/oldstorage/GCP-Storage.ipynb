{
 "cells": [
  {
   "cell_type": "code",
   "execution_count": 1,
   "id": "b98deeac",
   "metadata": {},
   "outputs": [],
   "source": [
    "import io\n",
    "from PIL import Image\n",
    "\n",
    "from service_storage import ServiceStorage\n",
    "from google.cloud import storage\n",
    "S4_BUCKET_NAME = \"s4_pdf_buckets\"\n",
    "PATH_TO_TEST = \"farm/00010/00010/avatar.jpg\"\n",
    "\n",
    "# Set bucket public # Dados do usuário.\n",
    "# ServiceStorage.set_bucket_public_iam(S4_BUCKET_NAME)"
   ]
  },
  {
   "cell_type": "code",
   "execution_count": 2,
   "id": "8d627c9a",
   "metadata": {},
   "outputs": [
    {
     "name": "stdout",
     "output_type": "stream",
     "text": [
      "agriness-report-api-dev\n",
      "agriness-report-api-load\n",
      "agriness-report-api-migration\n",
      "ais-development\n",
      "alexius_test\n",
      "bucket_test_alexius\n",
      "integration-layers\n",
      "presence-uploads\n",
      "s4_backend_dump\n",
      "s4_pdf_buckets\n",
      "us-east1-claytonteste001-ab4b8d40-bucket\n"
     ]
    }
   ],
   "source": [
    "buckets = ServiceStorage.list_buckets()\n",
    "for bucket in buckets:\n",
    "    print(bucket.name)"
   ]
  },
  {
   "cell_type": "code",
   "execution_count": 3,
   "id": "a19e0fdb",
   "metadata": {},
   "outputs": [
    {
     "name": "stdout",
     "output_type": "stream",
     "text": [
      "<Blob: s4_pdf_buckets, farm/003b5537-19be-4f46-9cf2-c84c3ca149c0/949f0417-9a96-4973-9659-c46fe69bdf5f/test.pdf, 1647637450189030>\n",
      "<Blob: s4_pdf_buckets, farm/04c8f80a-7754-4696-a49f-324edcb764f9/11be1b59-58b9-40f7-a40e-0b55ca10ad5a/test.pdf, 1647637465715649>\n",
      "<Blob: s4_pdf_buckets, farm/07ab8283-78fb-4554-919e-d114f0dd71a5/c4923197-48ac-4917-8b18-c1efb763d12b/test.pdf, 1647633956869781>\n",
      "<Blob: s4_pdf_buckets, farm/09deadfd-dc92-469b-ba70-96d70688e3fa/4f4b94b2-9a4f-4374-a9a1-1897f7b36e1e/test.pdf, 1647633999609209>\n",
      "<Blob: s4_pdf_buckets, farm/0c6f086e-4ee1-4362-aab6-35a704772865/46cab336-39a7-4a57-968f-13b0feaff2a0/test.pdf, 1647636604375096>\n",
      "<Blob: s4_pdf_buckets, farm/0eb40913-6d44-4f1c-9697-ebd184fffaef/895bd740-e5b5-49e9-95c3-862df29d908a/test.pdf, 1647636598104605>\n",
      "<Blob: s4_pdf_buckets, farm/0f0a9a4a-1b15-4961-8ec3-94aa010151a7/0d2785f2-7729-4cb1-b8be-864cd0959d42/test.pdf, 1647637461406495>\n",
      "<Blob: s4_pdf_buckets, farm/157c40d5-b59c-4e1c-b335-362e5752389e/543d9cb3-adf6-40d7-aaf0-7099f770218f/test.pdf, 1647637397567851>\n",
      "<Blob: s4_pdf_buckets, farm/16402ce4-1080-43f4-866f-d9b9a8576f84/e3afca89-b040-43c4-a039-32eb30af2a26/test.pdf, 1647636613737225>\n",
      "<Blob: s4_pdf_buckets, farm/1674b202-f57c-40d2-a65d-84be40baa209/db4a9939-6a68-43db-bf54-a9193a10fdb4/test.pdf, 1647636662284555>\n",
      "<Blob: s4_pdf_buckets, farm/16d359ee-347b-42a1-a7e7-b70ec328f82f/0bb07b0c-d410-49f8-ad97-9f452e995edc/test.pdf, 1647633945749053>\n",
      "<Blob: s4_pdf_buckets, farm/19a62bb5-00bf-4222-9fff-c0e0fce48fbe/7d5a0754-6ccf-4cc4-9d47-7778b30bde02/test.pdf, 1647636561082677>\n",
      "<Blob: s4_pdf_buckets, farm/1b0cd791-7699-44ef-879f-85537a16892a/9d834d77-b177-456c-958b-7e38eed672ed/test.pdf, 1647637382932019>\n",
      "<Blob: s4_pdf_buckets, farm/1c3a79d0-af92-48e0-8586-dac4a4a33624/9160a733-d7d8-4ab3-bc31-4ee84ca584f6/test.pdf, 1647634081116874>\n",
      "<Blob: s4_pdf_buckets, farm/1c611dc0-f646-4b40-ae3a-8766a23168d4/fe3214b8-f1ac-4804-a2ae-25f3b2729d29/test.pdf, 1647637419189824>\n",
      "<Blob: s4_pdf_buckets, farm/1daefa9c-89c7-4ce4-82d2-9dca3cdd115b/41a772e2-c1da-49f2-9970-9a2e5bbdd559/test.pdf, 1647636680293407>\n",
      "<Blob: s4_pdf_buckets, farm/21478427-262b-4b45-b33b-6bea532e4ee7/5d9898c8-7ac7-4fa0-9b13-0fe77310b7df/test.pdf, 1647637463507243>\n",
      "<Blob: s4_pdf_buckets, farm/2504c31c-98bb-4f8e-b0ea-ddf9ec501d61/ef09f821-7b84-492b-af70-455109848146/test.pdf, 1647636691519029>\n",
      "<Blob: s4_pdf_buckets, farm/254c756e-1366-4feb-ba3c-adb4ddcae2f7/970092d1-ab49-419e-8a20-6b29e2ee6534/test.pdf, 1647637425169349>\n",
      "<Blob: s4_pdf_buckets, farm/25617ded-43f0-4637-a565-9f11008e74cd/5ba09328-f2f2-47cd-89df-53ca8df20005/test.pdf, 1647634042247927>\n",
      "<Blob: s4_pdf_buckets, farm/25f384d8-ba4f-47a0-8064-5963c820e237/35dbd3ba-2ef4-45e2-a3ed-5a7bf91cee00/test.pdf, 1647637391064851>\n",
      "<Blob: s4_pdf_buckets, farm/28b7e51b-f65a-45bc-9e57-a149cfb9c46b/1c664dc1-4013-4e3f-9b0f-00b18eb20f26/test.pdf, 1647637413165841>\n",
      "<Blob: s4_pdf_buckets, farm/2fa4075d-5d49-4146-923f-61b673b00e9f/a6454246-af9e-4a59-8443-b7bdde5c708a/test.pdf, 1647636583945640>\n",
      "<Blob: s4_pdf_buckets, farm/3117dd09-5040-43d1-afbd-4eef29c3f1e3/13595333-af02-478a-b57e-795a5d7c8ad4/test.pdf, 1647634077904357>\n",
      "<Blob: s4_pdf_buckets, farm/31e98ce2-65bf-41d1-9220-7cd775e9270b/c7d4c54f-71db-414d-b042-060e8706c13c/test.pdf, 1647636647621646>\n",
      "<Blob: s4_pdf_buckets, farm/3503ed20-7703-428a-af79-bde1437116c3/c95488ec-9172-4687-aad7-7ed7ce33c503/test.pdf, 1647633960862356>\n",
      "<Blob: s4_pdf_buckets, farm/35be16ff-c9a8-4c29-b021-de58c223f1b8/81d162f6-2793-48b2-b22c-a7270d599d6b/test.pdf, 1647636624947993>\n",
      "<Blob: s4_pdf_buckets, farm/3769c4f2-429f-40a9-adea-06127445d052/a9f1f44a-dbb0-4bf4-a8ed-eca4fcb0ba93/test.pdf, 1647636570595023>\n",
      "<Blob: s4_pdf_buckets, farm/386504e0-4971-42f7-82c0-39db71e0ca9e/4354e581-347f-4c6b-a21a-49c70fa54ee4/test.pdf, 1647636639765502>\n",
      "<Blob: s4_pdf_buckets, farm/38bafcf7-f4ae-43dc-843c-ace3fb93d4ee/dfa7f396-1072-4002-9d7e-3f457c45d427/test.pdf, 1647636629421906>\n",
      "<Blob: s4_pdf_buckets, farm/3b284910-d435-432c-a02c-be31311a276e/085951e4-365c-4812-bb1b-19aba96cc31f/test.pdf, 1647634084564680>\n",
      "<Blob: s4_pdf_buckets, farm/3cc78f9a-76c2-409b-a5e5-27aa8fb872fb/fdf27e04-f2d9-4dcf-8285-9ebedb0650d0/test.pdf, 1647636698910721>\n",
      "<Blob: s4_pdf_buckets, farm/3f33ce3f-d9db-4038-9f4a-195caa613e7b/002c5199-a409-4073-9935-0271d3805cbc/test.pdf, 1647637433424454>\n",
      "<Blob: s4_pdf_buckets, farm/42a15546-74d8-4b78-be96-af5671d56c86/c7a1d595-06bc-425f-b975-831a82047026/test.pdf, 1647633964046397>\n",
      "<Blob: s4_pdf_buckets, farm/444a0f5c-a667-4489-aa39-f12f28f76b90/05b3219d-1138-4446-a11c-93f9ea3cfbb1/test.pdf, 1647637417187551>\n",
      "<Blob: s4_pdf_buckets, farm/4719490d-ecbc-4ba2-804f-03b0b1939c1c/3d79523e-7047-4a79-8ac3-fc27fd8641ae/test.pdf, 1647636676761053>\n",
      "<Blob: s4_pdf_buckets, farm/4827ce56-eb97-47c2-ba23-dc2b485386f8/1ab71f00-6ea9-4ee5-9176-fee538c3ea1a/test.pdf, 1647637407280484>\n",
      "<Blob: s4_pdf_buckets, farm/4a57288d-e1e8-4642-8373-0a914f0aa390/60ab1632-7b15-4853-b501-fba7d986d77a/test.pdf, 1647637380644255>\n",
      "<Blob: s4_pdf_buckets, farm/4d525517-2576-4343-8a8f-355e2dae7650/2f8c567d-2f74-4817-945b-9b7e767b7853/test.pdf, 1647637427227259>\n",
      "<Blob: s4_pdf_buckets, farm/4f940521-6457-401d-b629-1d076aa1274b/7f831575-c238-400b-b626-889f481ea12a/test.pdf, 1647634058495881>\n",
      "<Blob: s4_pdf_buckets, farm/520a8e1a-3701-40ed-9922-248581ba2997/9636d70f-acfb-486d-9313-bde4b5401948/test.pdf, 1647634028778931>\n",
      "<Blob: s4_pdf_buckets, farm/53e2aedb-9f0d-46ad-8cbf-8e02dd64e427/af2b3c97-2dca-4a32-9788-bfc7c05c5618/test.pdf, 1647633990011124>\n",
      "<Blob: s4_pdf_buckets, farm/54e0b480-44dc-4a11-b33f-c46e6720d520/0f9ceed8-ddd9-409e-984d-d7c26d137075/test.pdf, 1647634068242475>\n",
      "<Blob: s4_pdf_buckets, farm/565cfaec-2dbb-4128-9777-58dfc1fb63bd/1663e61a-6aff-44bd-b3c0-37c61fddcd07/test.pdf, 1647634071679731>\n",
      "<Blob: s4_pdf_buckets, farm/57c6b643-ba28-4087-87b1-cb9a0c87fb1e/285b8e09-e5bc-4413-ac2e-cfc267479c99/test.pdf, 1647633996489896>\n",
      "<Blob: s4_pdf_buckets, farm/5cf513c1-6af1-4ba3-a4f2-a9e43ba0a977/af6d8c77-0c2d-4980-9725-6a790a04d16d/test.pdf, 1647637431516851>\n",
      "<Blob: s4_pdf_buckets, farm/6149ae5b-050f-4e54-a618-a4a09bd0cea8/30c92684-248c-43ee-8d65-bc800995bf63/test.pdf, 1647636695661445>\n",
      "<Blob: s4_pdf_buckets, farm/62ea5950-342f-41e1-86a8-36fe09b88d8e/ea8f575e-bf63-44e6-a279-b5bdc2d9f169/test.pdf, 1647637411213429>\n",
      "<Blob: s4_pdf_buckets, farm/657a7ecd-d34a-4e52-ac05-1f71a861d5e6/894fef87-bf9d-473d-b176-4930e7928ccd/test.pdf, 1647634034967326>\n",
      "<Blob: s4_pdf_buckets, farm/694349f9-087b-481f-8087-6084ca950b02/d4394cd1-1869-4965-8dca-345647872fc3/test.pdf, 1647637421159358>\n",
      "<Blob: s4_pdf_buckets, farm/6a807e37-e426-47a4-b41b-08cde5083654/1c35699d-7cae-4205-8b2e-f3993d37ad3c/test.pdf, 1647637456663337>\n",
      "<Blob: s4_pdf_buckets, farm/6aa13c5a-0755-4c49-ba21-954f80f052bd/5c6dc2bb-40a7-4254-85e5-0f36df3065ff/test.pdf, 1647637470650066>\n",
      "<Blob: s4_pdf_buckets, farm/6aa149f3-f86b-41f6-a571-b6bbacffe5d9/bbd0f5b7-8293-4ea4-8d46-4a0fdf446e46/test.pdf, 1647637429167900>\n",
      "<Blob: s4_pdf_buckets, farm/6f119aa9-86ad-443c-8840-a2a98af0c68c/b802c957-fa44-44f9-a221-9e3a9249b41b/test.pdf, 1647636610659408>\n",
      "<Blob: s4_pdf_buckets, farm/709a115d-a816-478d-85eb-9a1335c53970/541d224e-9271-4a98-a17b-2484ff2ff9e3/test.pdf, 1647634022070694>\n",
      "<Blob: s4_pdf_buckets, farm/70e77ec4-72ec-46aa-8fa5-891761766c0f/e24eb229-1610-4c88-8f41-3164c4749350/test.pdf, 1647633983448639>\n",
      "<Blob: s4_pdf_buckets, farm/7138ab82-404e-4b87-a6f6-d82b89e1132f/168a61a8-5bdb-49b4-8a56-b20f8b74dae1/test.pdf, 1647637409320870>\n",
      "<Blob: s4_pdf_buckets, farm/73e4eace-7576-44f3-87c3-acb6c49c8434/410f5e45-d6c9-4576-af00-fa20f2047422/test.pdf, 1647636665706728>\n",
      "<Blob: s4_pdf_buckets, farm/78515feb-a586-487c-ab8c-1888dc961201/1f6ea665-ed44-4da1-8a82-4e175d7eaf2d/test.pdf, 1647637384961204>\n",
      "<Blob: s4_pdf_buckets, farm/7c4f14eb-c2b2-440f-bf10-60b45574e82f/23e1b326-b566-47a5-be8d-e755d36aaf2e/test.pdf, 1647636668909587>\n",
      "<Blob: s4_pdf_buckets, farm/7d7d48ba-17cd-44e3-9c68-221d7ae228ff/cfec3227-010f-4f42-8a95-2a9584b64119/test.pdf, 1647634039056848>\n",
      "<Blob: s4_pdf_buckets, farm/7f9591ca-3e1c-4c92-9089-f9b0e40a6306/a93b2d54-b808-447b-8cca-03635df5dd4d/test.pdf, 1647636707846337>\n",
      "<Blob: s4_pdf_buckets, farm/8104f616-1ba3-42e8-81b5-5d9cab5b2d1b/bb9b8553-5f63-4a95-b280-e1a7c20f5b96/test.pdf, 1647636658701244>\n",
      "<Blob: s4_pdf_buckets, farm/86ae067f-0c5b-4aec-aefa-2fbb15d97eb4/3a9466da-d36f-463b-8f37-f25e76b27ab3/test.pdf, 1647634055021760>\n",
      "<Blob: s4_pdf_buckets, farm/8837d541-348c-448d-915e-f31c4f09bb20/edd56499-5acb-4ecc-b3f4-00df5bbcfd9d/test.pdf, 1647636652137053>\n",
      "<Blob: s4_pdf_buckets, farm/89ea9cfb-4858-4f99-8d0f-2f241aa9fbd5/d083d8c3-544a-45f3-9e2b-66497b82eb6f/test.pdf, 1647637443071748>\n",
      "<Blob: s4_pdf_buckets, farm/8ac97372-9180-43fd-b0c3-6ecb76d2fc8f/2134ac03-70a5-40f5-8500-ba781bca3257/test.pdf, 1647633952408789>\n",
      "<Blob: s4_pdf_buckets, farm/8bef00bc-8c52-40ad-bf91-b26d873930fe/0d7c844f-8eab-47e2-9854-5e2564c5376f/test.pdf, 1647637404758634>\n",
      "<Blob: s4_pdf_buckets, farm/90e3f845-8ec0-40fa-914c-40d11f73e8ab/dae3887f-8a41-440a-be0a-a3e4690f6e56/test.pdf, 1647637378432561>\n",
      "<Blob: s4_pdf_buckets, farm/928d4f8e-cbe7-4e46-82ae-01015dc74444/11514d0e-3242-46c5-b806-7901df60c1c3/test.pdf, 1647636564255934>\n",
      "<Blob: s4_pdf_buckets, farm/92ad0bf7-e06b-41ab-a9f2-d094a609fa79/2438f250-2e83-4da1-b070-44b40a0604a8/test.pdf, 1647634045353969>\n",
      "<Blob: s4_pdf_buckets, farm/931db2b1-118b-4dff-be5e-e4d7e6744ae5/bb12b3af-5577-4dac-945f-220d8803003f/test.pdf, 1647637415118098>\n",
      "<Blob: s4_pdf_buckets, farm/9564cba7-8ca2-40cf-8a82-7063a01d2114/ba1fb352-2d37-4ae4-9843-f41147879b99/test.pdf, 1647634048568006>\n",
      "<Blob: s4_pdf_buckets, farm/95cf784d-7288-4f27-9d40-696c458b6f47/6ccb5b72-f87f-42bf-94b2-b1c8294b5a8d/test.pdf, 1647637387018582>\n",
      "<Blob: s4_pdf_buckets, farm/9617ce9b-bc0a-4e71-9ef4-f7d71868b121/f893cc24-aa77-4719-8d5e-78da797adfb4/test.pdf, 1647637441186092>\n",
      "<Blob: s4_pdf_buckets, farm/96ed3956-6a0c-42ff-81e7-b6f9c1185a22/06ff67b8-106a-4f4b-b261-780787111f92/test.pdf, 1647634002773791>\n",
      "<Blob: s4_pdf_buckets, farm/98b7e383-90d9-4707-b4f5-d206068e8bc1/261c5db1-8532-4d2c-9b7e-3743af1f8fef/test.pdf, 1647636590645601>\n",
      "<Blob: s4_pdf_buckets, farm/99703027-7488-4991-a75d-06403f115161/898a3fa1-5dea-4e37-93aa-6ae92dec27ca/test.pdf, 1647637452470863>\n",
      "<Blob: s4_pdf_buckets, farm/99b3807a-d094-4d03-a09a-965f0762d754/0498ac23-ad07-456d-8744-ab855f1c6546/test.pdf, 1647636616913714>\n",
      "<Blob: s4_pdf_buckets, farm/9a7075c3-1546-4945-88ba-04c660098d24/77d12e4a-6f41-4dc9-9faf-c3aea22e9ff6/test.pdf, 1647633970544563>\n",
      "<Blob: s4_pdf_buckets, farm/9e71526d-4fa5-4db1-a057-a4e1df3bca0d/4a262562-3923-4c8b-be27-12ff6aa11967/test.pdf, 1647636620986358>\n",
      "<Blob: s4_pdf_buckets, farm/9f59a467-2bfa-4b10-b12c-f42bf7c427be/9ca39a85-efe5-4b58-8bc5-277a829091c5/test.pdf, 1647633993355847>\n",
      "<Blob: s4_pdf_buckets, farm/9f6ee29c-1368-4ac6-972e-7270ec8c6710/6a4d83ac-be27-40f9-b0a8-3715abdee3f1/test.pdf, 1647634061670906>\n",
      "<Blob: s4_pdf_buckets, farm/9fcfefda-3648-4de9-8022-773d98996069/4c292a43-f13a-43a9-8a51-1372c1384913/test.pdf, 1647637401581347>\n",
      "<Blob: s4_pdf_buckets, farm/a0093bed-0dc0-4d39-b723-8d0893057caf/0d6e3a66-c3c1-42ad-969f-78837ff69bdb/test.pdf, 1647636683954385>\n",
      "<Blob: s4_pdf_buckets, farm/a165343f-d9a6-4ec6-8ec0-3387e79c8832/f4c2256b-dafa-4d67-a7a9-d0d8fefa675c/test.pdf, 1647637393237221>\n",
      "<Blob: s4_pdf_buckets, farm/a17ba5f6-6eef-4f49-96f1-608ab39a66e6/f2922aa6-7edd-4e70-9ec4-729421b54b1d/test.pdf, 1647637437297081>\n",
      "<Blob: s4_pdf_buckets, farm/a195babe-48af-4277-8767-3cb13f6af126/18f29756-e5da-466b-96d4-fd9c8b07ef62/test.pdf, 1647634051797958>\n",
      "<Blob: s4_pdf_buckets, farm/a278b412-a6ba-4a2c-8fa8-b8442b82e11f/f7176b7b-0919-4fad-931d-44889cf1ded9/test.pdf, 1647634065041140>\n",
      "<Blob: s4_pdf_buckets, farm/a3776c57-fbb0-44d4-812c-9578d74b0d6f/0ebb1587-c63a-44c6-aa7a-23913e4e2159/test.pdf, 1647634031836119>\n",
      "<Blob: s4_pdf_buckets, farm/a43fc756-6f5f-4f1a-a667-eb3094be8a08/e1b73cdf-b30b-4b0f-ba08-35e9ec1c1458/test.pdf, 1647633948981373>\n",
      "<Blob: s4_pdf_buckets, farm/a64fa693-7bf4-49f4-a341-cb07235912e3/c33a2a93-be62-4b44-82b3-daa6a78c111b/test.pdf, 1647636655476458>\n",
      "<Blob: s4_pdf_buckets, farm/a80a3c71-fc1c-4fc1-b18f-63c0a176ea48/9a9f6df5-e3db-4700-ac94-cdd0ae3563d5/test.pdf, 1647637459058695>\n",
      "<Blob: s4_pdf_buckets, farm/a8a32d64-6898-4d74-b46c-09557e74267c/79fe96a6-9ce4-47ca-bf9f-7093ced7247a/test.pdf, 1647636643316845>\n",
      "<Blob: s4_pdf_buckets, farm/a9fae6bf-59cc-4324-b0b0-db4b1565d8e5/1339d456-06d8-4b88-912d-10295380fd2b/test.pdf, 1647636687664823>\n",
      "<Blob: s4_pdf_buckets, farm/abd7f6fe-543f-4432-ad07-5cafe260b1e8/65c958d9-48ae-4606-96f3-cb0bb5c7f8f8/test.pdf, 1647634009331765>\n",
      "<Blob: s4_pdf_buckets, farm/af4debb5-dd67-4462-932a-f9d1d56324a9/9886081b-aa41-4aa2-9147-09bfe140fc1a/test.pdf, 1647637423193536>\n",
      "<Blob: s4_pdf_buckets, farm/aff3eb81-cb0d-4b88-9a02-bf628af978a4/e92e2e5a-e6fc-4785-bcfe-d99f9e0c2f34/test.pdf, 1647636713583127>\n",
      "<Blob: s4_pdf_buckets, farm/b5857796-7297-417b-ab8b-ae0a96e60d24/e0f0d18e-b330-48c2-992e-260495152c6c/test.pdf, 1647634074876790>\n",
      "<Blob: s4_pdf_buckets, farm/ba8cbe86-7d50-480f-8475-43d4de8a54ae/1ca32458-162f-40de-8f1c-31b214cf9c0c/test.pdf, 1647633967236766>\n",
      "<Blob: s4_pdf_buckets, farm/bbaafe22-efb4-459e-ac95-6c197484f180/9f3cf049-8a32-4f4a-9620-b6ef4679e774/test.pdf, 1647636672401839>\n",
      "<Blob: s4_pdf_buckets, farm/bddefdb4-c103-4e2a-b6e2-596597d5ef6f/0540fd1c-4056-45ba-9fde-bc317f244eac/test.pdf, 1647637447652679>\n",
      "<Blob: s4_pdf_buckets, farm/be0978bb-433d-4c87-9d38-07ccc7917155/a457755d-f0fb-463b-8a61-f5dde6d24fde/test.pdf, 1647636601267356>\n",
      "<Blob: s4_pdf_buckets, farm/c46845c7-f622-4cf9-b9f4-beb1421da6f9/4fe1b3e6-8251-451f-b85d-da8bf81fc6de/test.pdf, 1647636633166036>\n",
      "<Blob: s4_pdf_buckets, farm/c7571cfe-cb4f-43d5-9d78-2bda083f1b24/9c7f9272-275c-44ea-8a03-0637b712f34d/test.pdf, 1647637454588036>\n",
      "<Blob: s4_pdf_buckets, farm/cb9b57bd-ec3d-4a1c-87da-c657852140da/49af1e4f-37b2-439c-9ed8-aa42b54ad625/test.pdf, 1647636577538836>\n",
      "<Blob: s4_pdf_buckets, farm/ccbb3101-d171-44a3-9efb-8db3648b91f2/999230b4-ebb5-4e48-b1c8-b01f388f8b4a/test.pdf, 1647634012510411>\n",
      "<Blob: s4_pdf_buckets, farm/cd0b15a9-f2e2-44fc-8fb5-05f0954140b9/2e170d03-98b7-4d3b-a364-66bd63e616b8/test.pdf, 1647637389017756>\n",
      "<Blob: s4_pdf_buckets, farm/ce857c12-672c-43d9-a296-5cb05cedd4be/8de43ef6-80ec-471b-adc8-84a07de580e6/test.pdf, 1647637395613788>\n",
      "<Blob: s4_pdf_buckets, farm/cf9ebaec-1bf4-4957-b527-a5ca74a324c9/ad3402de-a816-4155-8858-297d2c1a2854/test.pdf, 1647633986799266>\n",
      "<Blob: s4_pdf_buckets, farm/cfc1d0e1-ede7-4ec4-822a-9686b2e73c0f/65d27f19-9c56-4d46-b6f9-81dfd677fe1c/test.pdf, 1647634018977410>\n",
      "<Blob: s4_pdf_buckets, farm/d1961620-6e0a-4179-b2dc-bf6a23f966e4/4d528707-6bc0-46a9-991a-57d749192fb6/test.pdf, 1647637439306577>\n",
      "<Blob: s4_pdf_buckets, farm/d1b77d16-9c83-4175-a72d-a3dee1045c90/5803aa22-521f-4888-8e29-8460b8c3575c/test.pdf, 1647636594785732>\n",
      "<Blob: s4_pdf_buckets, farm/d1e9aaac-62e1-4168-84f3-b6d8a3164696/c2701c0d-ac8e-46ff-ab56-6440a0355f74/test.pdf, 1647636607488050>\n",
      "<Blob: s4_pdf_buckets, farm/d2e73061-d549-4f26-9f24-ba686a54fdd4/9ad3e383-f1ad-4b02-becc-88c26d2a5a8f/test.pdf, 1647637399582316>\n",
      "<Blob: s4_pdf_buckets, farm/d31073f9-615a-4310-95ff-a4c94821027c/f8aa6417-8a95-4ea6-9e25-9f6308a88609/test.pdf, 1647636567537438>\n",
      "<Blob: s4_pdf_buckets, farm/d4bce058-d655-43f0-87a7-2acebef230ff/838ff77b-b738-4155-aa1a-6d9c9d24666d/test.pdf, 1647634015664660>\n",
      "<Blob: s4_pdf_buckets, farm/db52f2d1-384d-4840-baf8-c0a706aad05d/f0a867e5-52d0-4ee2-93f9-57d2d3dc6f69/test.pdf, 1647637468392774>\n",
      "<Blob: s4_pdf_buckets, farm/dc9f6c9c-feae-4c06-b82c-bd3c93760d95/b6b0f9b8-402a-4d99-941e-f61052d17967/test.pdf, 1647634006088491>\n",
      "<Blob: s4_pdf_buckets, farm/dde03ff1-c8fb-4175-a173-3a798ef70522/d1d93727-c504-4835-ae54-fcfd7eccd98f/test.pdf, 1647636716979627>\n",
      "<Blob: s4_pdf_buckets, farm/df7f1237-e2f3-41c6-926a-76ff16b186b1/3e54c5a7-9320-4dd6-a564-539ef4501148/test.pdf, 1647636574213931>\n",
      "<Blob: s4_pdf_buckets, farm/dfe107a3-a855-4dfe-8ef5-326e3028e96f/5fb5214a-0cb4-4d74-ad4a-f775f62067ad/test.pdf, 1647637444968369>\n",
      "<Blob: s4_pdf_buckets, farm/e953b2f2-3e56-451e-8245-3e089b312dd9/f7b3133c-f637-472a-a015-f0a58462a87c/test.pdf, 1647633980191392>\n",
      "<Blob: s4_pdf_buckets, farm/ea454375-1a9b-410b-a102-c257bf63eac4/5636ae05-f62d-4d44-8919-272dcacf172c/test.pdf, 1647634087893479>\n",
      "<Blob: s4_pdf_buckets, farm/ed2abcf1-ed1b-4218-917e-36dd603ea036/d005a228-c474-45fb-af0e-0702e6c14375/test.pdf, 1647637435341417>\n",
      "<Blob: s4_pdf_buckets, farm/f2b77874-9a95-4eaa-8d01-2cc1f0c34dd7/ed4addf7-68a4-4b4d-9159-ca0f59850485/test.pdf, 1647636702650132>\n",
      "<Blob: s4_pdf_buckets, farm/f2e69dfb-3871-4e1f-83cf-e68836abcae0/a5ca7133-7e2c-4b14-aefa-3d75293c3e15/test.pdf, 1647634025172433>\n",
      "<Blob: s4_pdf_buckets, farm/f38e0ca8-39c9-429b-a73b-81d3640d4144/e1b3cccd-65f4-45f2-977e-4efc4adb01ef/test.pdf, 1647633973846967>\n",
      "<Blob: s4_pdf_buckets, farm/f6eec15a-beb3-42e6-b4e2-2abaea31d735/760fdf00-e75b-4ece-9e9b-028fdffe00b3/test.pdf, 1647633976939394>\n",
      "<Blob: s4_pdf_buckets, farm/f9bf294e-b1da-4d48-ac36-df929acf2d06/c27b654f-8382-487b-8d4f-a1289c72cb5b/test.pdf, 1647636580845463>\n",
      "<Blob: s4_pdf_buckets, farm/f9d4e898-cd07-44c9-ac00-625bd5bece4f/ede19e27-3afb-464d-99e2-00bcbe43f879/test.pdf, 1647636587192319>\n",
      "<Blob: s4_pdf_buckets, farm/ff59273c-350b-4d97-a580-6a909197c527/0dcc3d33-0491-40bf-b36d-8771b37a5456/test.pdf, 1647636636440958>\n"
     ]
    }
   ],
   "source": [
    "# lista blobs no storage\n",
    "\n",
    "s4_pdf_bucket = ServiceStorage.get_bucket(S4_BUCKET_NAME)\n",
    "blobs = s4_pdf_bucket.list_blobs()\n",
    "for b in blobs:\n",
    "    print(b)"
   ]
  },
  {
   "cell_type": "code",
   "execution_count": 4,
   "id": "887bb4e0",
   "metadata": {},
   "outputs": [
    {
     "name": "stdout",
     "output_type": "stream",
     "text": [
      "ID: s4_new_buckets_test\n",
      "Name: s4_new_buckets_test\n",
      "Location: US\n",
      "Self Link: https://www.googleapis.com/storage/v1/b/s4_new_buckets_test\n",
      "Self time created: 2022-03-19 23:31:10.445000+00:00\n",
      "Bucket Exists: True\n",
      "Bucket deletado?: True\n"
     ]
    }
   ],
   "source": [
    "s4_pdf_bucket = ServiceStorage.get_bucket(S4_BUCKET_NAME)\n",
    "# Testando criar um bucket caso ele nao exista:::\n",
    "BUCKET_TEST_NAME = \"s4_new_buckets_test\"\n",
    "new_bucket_test = ServiceStorage.get_bucket(BUCKET_TEST_NAME)\n",
    "\n",
    "print(f\"ID: {new_bucket_test.id}\")\n",
    "print(f\"Name: {new_bucket_test.name}\")\n",
    "print(f\"Location: {new_bucket_test.location}\")\n",
    "print(f\"Self Link: {new_bucket_test.self_link}\")\n",
    "print(f\"Self time created: {new_bucket_test.time_created}\")\n",
    "print(f\"Bucket Exists: {new_bucket_test.exists()}\")\n",
    "\n",
    "# Deleta o bucket de teste\n",
    "new_bucket_test.delete()\n",
    "\n",
    "# VErifica se existe o bucket novamente\n",
    "client_storage = storage.Client()\n",
    "print(f\"Bucket deletado?: {not storage.Bucket(client_storage, BUCKET_TEST_NAME).exists()}\")"
   ]
  },
  {
   "cell_type": "code",
   "execution_count": 5,
   "id": "3e4359c8",
   "metadata": {},
   "outputs": [
    {
     "name": "stdout",
     "output_type": "stream",
     "text": [
      "ID: s4_pdf_buckets\n",
      "Name: s4_pdf_buckets\n",
      "Location: US\n",
      "Self Link: https://www.googleapis.com/storage/v1/b/s4_pdf_buckets\n",
      "Self time created: 2022-03-16 20:40:28.247000+00:00\n",
      "Bucket Exists: True\n"
     ]
    }
   ],
   "source": [
    "print(f\"ID: {s4_pdf_bucket.id}\")\n",
    "print(f\"Name: {s4_pdf_bucket.name}\")\n",
    "print(f\"Location: {s4_pdf_bucket.location}\")\n",
    "print(f\"Self Link: {s4_pdf_bucket.self_link}\")\n",
    "print(f\"Self time created: {s4_pdf_bucket.time_created}\")\n",
    "print(f\"Bucket Exists: {s4_pdf_bucket.exists()}\")"
   ]
  },
  {
   "cell_type": "code",
   "execution_count": 6,
   "id": "7143539c",
   "metadata": {},
   "outputs": [
    {
     "name": "stdout",
     "output_type": "stream",
     "text": [
      "ID: s4_pdf_buckets/farm/00010/00010/avatar.jpg/1647732684307629\n",
      "Name: farm/00010/00010/avatar.jpg\n",
      "Public link: https://storage.googleapis.com/s4_pdf_buckets/farm/00010/00010/avatar.jpg\n",
      "Time created: 2022-03-19 23:31:24.348000+00:00\n",
      "Blob Exists: True\n"
     ]
    }
   ],
   "source": [
    "# Criando arquivo em byte para testar o envio e deletar do bucket\n",
    "im = Image.open(\"avatar.jpg\")\n",
    "bs = io.BytesIO()\n",
    "im.save(bs, \"jpeg\")\n",
    "\n",
    "blob = ServiceStorage.save_to_storage(\n",
    "    S4_BUCKET_NAME,\n",
    "    bs.getvalue(),\n",
    "    PATH_TO_TEST,\n",
    "    \"image/jpeg\",\n",
    ")\n",
    "\n",
    "print(f\"ID: {blob.id}\")\n",
    "print(f\"Name: {blob.name}\")\n",
    "print(f\"Public link: {blob.public_url}\")\n",
    "print(f\"Time created: {blob.time_created}\")\n",
    "print(f\"Blob Exists: {blob.exists()}\")"
   ]
  },
  {
   "cell_type": "code",
   "execution_count": 7,
   "id": "838f254b",
   "metadata": {},
   "outputs": [
    {
     "name": "stdout",
     "output_type": "stream",
     "text": [
      "True\n"
     ]
    }
   ],
   "source": [
    "# Deleta um blob\n",
    "# create_path_storage = PATH_TO_TEST\n",
    "path = \"farm/f6eec15a-beb3-42e6-b4e2-2abaea31d735/760fdf00-e75b-4ece-9e9b-028fdffe00b3/test.pdf\"\n",
    "print(ServiceStorage.delete_file(S4_BUCKET_NAME, PATH_TO_TEST))"
   ]
  },
  {
   "cell_type": "code",
   "execution_count": 8,
   "id": "48591752",
   "metadata": {},
   "outputs": [
    {
     "data": {
      "text/plain": [
       "'farm/00010/00010/avatar.jpg'"
      ]
     },
     "execution_count": 8,
     "metadata": {},
     "output_type": "execute_result"
    }
   ],
   "source": [
    "PATH_TO_TEST"
   ]
  }
 ],
 "metadata": {
  "kernelspec": {
   "display_name": "Python 3 (ipykernel)",
   "language": "python",
   "name": "python3"
  },
  "language_info": {
   "codemirror_mode": {
    "name": "ipython",
    "version": 3
   },
   "file_extension": ".py",
   "mimetype": "text/x-python",
   "name": "python",
   "nbconvert_exporter": "python",
   "pygments_lexer": "ipython3",
   "version": "3.8.10"
  }
 },
 "nbformat": 4,
 "nbformat_minor": 5
}
