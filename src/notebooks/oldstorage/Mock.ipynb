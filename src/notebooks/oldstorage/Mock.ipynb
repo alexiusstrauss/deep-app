{
 "cells": [
  {
   "cell_type": "code",
   "execution_count": null,
   "id": "2087d364",
   "metadata": {},
   "outputs": [],
   "source": [
    "from unittest import mock"
   ]
  },
  {
   "cell_type": "code",
   "execution_count": null,
   "id": "45b0f427",
   "metadata": {},
   "outputs": [],
   "source": []
  },
  {
   "cell_type": "code",
   "execution_count": null,
   "id": "f295fe38",
   "metadata": {},
   "outputs": [],
   "source": [
    "import random\n",
    "\n",
    "def roll_dice():\n",
    "    print(\"rolling...\")\n",
    "    return random.randint(1,6)"
   ]
  },
  {
   "cell_type": "code",
   "execution_count": null,
   "id": "ad91374b",
   "metadata": {},
   "outputs": [],
   "source": [
    "mock_roll_dice = mock.Mock(name=\"roll dice mock\", return_value=3)"
   ]
  },
  {
   "cell_type": "code",
   "execution_count": null,
   "id": "0f078933",
   "metadata": {},
   "outputs": [],
   "source": [
    "mock_roll_dice()"
   ]
  },
  {
   "cell_type": "code",
   "execution_count": null,
   "id": "8da14ab6",
   "metadata": {},
   "outputs": [],
   "source": [
    "roll_dice = mock_roll_dice"
   ]
  },
  {
   "cell_type": "code",
   "execution_count": null,
   "id": "6fd38cda",
   "metadata": {},
   "outputs": [],
   "source": [
    "roll_dice()"
   ]
  },
  {
   "cell_type": "code",
   "execution_count": 1,
   "id": "5f04db0f",
   "metadata": {},
   "outputs": [
    {
     "ename": "ModuleNotFoundError",
     "evalue": "No module named 'storage'",
     "output_type": "error",
     "traceback": [
      "\u001b[0;31m---------------------------------------------------------------------------\u001b[0m",
      "\u001b[0;31mModuleNotFoundError\u001b[0m                       Traceback (most recent call last)",
      "Input \u001b[0;32mIn [1]\u001b[0m, in \u001b[0;36m<cell line: 1>\u001b[0;34m()\u001b[0m\n\u001b[0;32m----> 1\u001b[0m \u001b[38;5;28;01mfrom\u001b[39;00m \u001b[38;5;21;01mstorage\u001b[39;00m\u001b[38;5;21;01m.\u001b[39;00m\u001b[38;5;21;01mstorages\u001b[39;00m \u001b[38;5;28;01mimport\u001b[39;00m GoogleStorage\n\u001b[1;32m      2\u001b[0m \u001b[38;5;28;01mfrom\u001b[39;00m \u001b[38;5;21;01mstorage\u001b[39;00m\u001b[38;5;21;01m.\u001b[39;00m\u001b[38;5;21;01mservices\u001b[39;00m \u001b[38;5;28;01mimport\u001b[39;00m ServiceStorage\n\u001b[1;32m      3\u001b[0m ls\n",
      "\u001b[0;31mModuleNotFoundError\u001b[0m: No module named 'storage'"
     ]
    }
   ],
   "source": [
    "from storage.storages import GoogleStorage\n",
    "from storage.services import ServiceStorage"
   ]
  },
  {
   "cell_type": "code",
   "execution_count": null,
   "id": "0668bbf9",
   "metadata": {},
   "outputs": [],
   "source": [
    "# Listar buckets do google\n",
    "\n",
    "#google_client = GoogleStorage()\n",
    "\n",
    "#gcp = ServiceStorage(google_client)\n",
    "#gcp.storage.list_buckets()\n",
    "clear"
   ]
  },
  {
   "cell_type": "code",
   "execution_count": null,
   "id": "d1036f86",
   "metadata": {},
   "outputs": [],
   "source": [
    "# Listar buckets do Amazon S3\n",
    "\n",
    "amazon_client = AmazonStorage()\n",
    "\n",
    "aws = ServiceStorage(amazon_client)\n",
    "aws.storage.list_buckets()"
   ]
  },
  {
   "cell_type": "code",
   "execution_count": null,
   "id": "f7e73bec",
   "metadata": {},
   "outputs": [],
   "source": [
    "# Listar buckets do Azure\n",
    "\n",
    "azure_client = AzureStorage()\n",
    "\n",
    "azure = ServiceStorage(azure_client)\n",
    "azure.storage.list_buckets()"
   ]
  },
  {
   "cell_type": "code",
   "execution_count": null,
   "id": "97f65a41",
   "metadata": {},
   "outputs": [],
   "source": []
  }
 ],
 "metadata": {
  "kernelspec": {
   "display_name": "Python 3 (ipykernel)",
   "language": "python",
   "name": "python3"
  },
  "language_info": {
   "codemirror_mode": {
    "name": "ipython",
    "version": 3
   },
   "file_extension": ".py",
   "mimetype": "text/x-python",
   "name": "python",
   "nbconvert_exporter": "python",
   "pygments_lexer": "ipython3",
   "version": "3.8.10"
  }
 },
 "nbformat": 4,
 "nbformat_minor": 5
}
