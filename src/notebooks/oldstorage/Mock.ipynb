{
 "cells": [
  {
   "cell_type": "code",
   "execution_count": 1,
   "id": "2087d364",
   "metadata": {},
   "outputs": [],
   "source": [
    "from unittest import mock"
   ]
  },
  {
   "cell_type": "code",
   "execution_count": 2,
   "id": "f295fe38",
   "metadata": {},
   "outputs": [],
   "source": [
    "import random\n",
    "\n",
    "def roll_dice():\n",
    "    print(\"rolling...\")\n",
    "    return random.randint(1,6)"
   ]
  },
  {
   "cell_type": "code",
   "execution_count": null,
   "id": "ecb75fbd",
   "metadata": {},
   "outputs": [],
   "source": []
  },
  {
   "cell_type": "code",
   "execution_count": 12,
   "id": "cbdabda8",
   "metadata": {},
   "outputs": [],
   "source": [
    "@mock.patch('roll_dice')\n",
    "def test_roll_dice(mock_dice):\n",
    "    mock_dice.return_value = 4\n",
    "    assert mock_dice == 4"
   ]
  },
  {
   "cell_type": "code",
   "execution_count": 19,
   "id": "7aa390c0",
   "metadata": {},
   "outputs": [
    {
     "name": "stdout",
     "output_type": "stream",
     "text": [
      "\u001b[1m============================= test session starts ==============================\u001b[0m\r\n",
      "platform linux -- Python 3.8.10, pytest-7.1.1, pluggy-1.0.0\r\n",
      "rootdir: /home/alexius/Workspaces/MZ/deep-app/src/notebooks/oldstorage\r\n",
      "plugins: anyio-3.5.0\r\n",
      "\u001b[1mcollecting ... \u001b[0m\u001b[1m\r",
      "collected 0 items                                                              \u001b[0m\r\n",
      "\r\n",
      "\u001b[33m============================ \u001b[33mno tests ran\u001b[0m\u001b[33m in 0.01s\u001b[0m\u001b[33m =============================\u001b[0m\r\n"
     ]
    }
   ],
   "source": [
    "! pytest "
   ]
  },
  {
   "cell_type": "code",
   "execution_count": 3,
   "id": "ad91374b",
   "metadata": {},
   "outputs": [],
   "source": [
    "mock_roll_dice = mock.Mock(name=\"roll dice mock\", return_value=3)"
   ]
  },
  {
   "cell_type": "code",
   "execution_count": 7,
   "id": "0f078933",
   "metadata": {},
   "outputs": [
    {
     "data": {
      "text/plain": [
       "3"
      ]
     },
     "execution_count": 7,
     "metadata": {},
     "output_type": "execute_result"
    }
   ],
   "source": [
    "mock_roll_dice()"
   ]
  },
  {
   "cell_type": "code",
   "execution_count": 8,
   "id": "8da14ab6",
   "metadata": {},
   "outputs": [],
   "source": [
    "roll_dice = mock_roll_dice"
   ]
  },
  {
   "cell_type": "code",
   "execution_count": 9,
   "id": "6fd38cda",
   "metadata": {},
   "outputs": [
    {
     "data": {
      "text/plain": [
       "3"
      ]
     },
     "execution_count": 9,
     "metadata": {},
     "output_type": "execute_result"
    }
   ],
   "source": [
    "roll_dice()"
   ]
  },
  {
   "cell_type": "code",
   "execution_count": null,
   "id": "5f04db0f",
   "metadata": {},
   "outputs": [],
   "source": []
  },
  {
   "cell_type": "code",
   "execution_count": null,
   "id": "0668bbf9",
   "metadata": {},
   "outputs": [],
   "source": [
    "# Listar buckets do google\n",
    "\n",
    "#google_client = GoogleStorage()\n",
    "\n",
    "#gcp = ServiceStorage(google_client)\n",
    "#gcp.storage.list_buckets()\n",
    "clear"
   ]
  },
  {
   "cell_type": "code",
   "execution_count": null,
   "id": "d1036f86",
   "metadata": {},
   "outputs": [],
   "source": [
    "# Listar buckets do Amazon S3\n",
    "\n",
    "amazon_client = AmazonStorage()\n",
    "\n",
    "aws = ServiceStorage(amazon_client)\n",
    "aws.storage.list_buckets()"
   ]
  },
  {
   "cell_type": "code",
   "execution_count": null,
   "id": "f7e73bec",
   "metadata": {},
   "outputs": [],
   "source": [
    "# Listar buckets do Azure\n",
    "\n",
    "azure_client = AzureStorage()\n",
    "\n",
    "azure = ServiceStorage(azure_client)\n",
    "azure.storage.list_buckets()"
   ]
  },
  {
   "cell_type": "code",
   "execution_count": null,
   "id": "97f65a41",
   "metadata": {},
   "outputs": [],
   "source": []
  }
 ],
 "metadata": {
  "kernelspec": {
   "display_name": "Python 3 (ipykernel)",
   "language": "python",
   "name": "python3"
  },
  "language_info": {
   "codemirror_mode": {
    "name": "ipython",
    "version": 3
   },
   "file_extension": ".py",
   "mimetype": "text/x-python",
   "name": "python",
   "nbconvert_exporter": "python",
   "pygments_lexer": "ipython3",
   "version": "3.8.10"
  }
 },
 "nbformat": 4,
 "nbformat_minor": 5
}
