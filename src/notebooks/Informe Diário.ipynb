{
 "cells": [
  {
   "cell_type": "code",
   "execution_count": 16,
   "id": "eae4b065",
   "metadata": {},
   "outputs": [],
   "source": [
    "# Tratamento do arquivo inf_diario e gravando dados no banco."
   ]
  },
  {
   "cell_type": "code",
   "execution_count": 1,
   "id": "23113990",
   "metadata": {},
   "outputs": [],
   "source": [
    "import os\n",
    "import re\n",
    "import requests"
   ]
  },
  {
   "cell_type": "code",
   "execution_count": 2,
   "id": "e1c48a2f",
   "metadata": {},
   "outputs": [],
   "source": [
    "param_dic = {\n",
    "    \"host\"      : \"localhost\",\n",
    "    \"database\"  : \"postgres\",\n",
    "    \"user\"      : \"postgres\",\n",
    "    \"password\"  : \"postgres\"\n",
    "}"
   ]
  },
  {
   "cell_type": "code",
   "execution_count": 3,
   "id": "c81111df",
   "metadata": {},
   "outputs": [],
   "source": [
    "url = \"http://dados.cvm.gov.br/dados/FI/DOC/INF_DIARIO/DADOS/inf_diario_fi_202103.csv\"\n",
    "file_name = \"inf_diario_fi_202103.csv\"\n",
    "temp_dir = \"tmp\"\n"
   ]
  },
  {
   "cell_type": "code",
   "execution_count": 7,
   "id": "ff6d9853",
   "metadata": {},
   "outputs": [
    {
     "name": "stdout",
     "output_type": "stream",
     "text": [
      "{'file_path': 'tmp/inf_diario_fi_202103.csv', 'file_name': 'inf_diario_fi_202103.csv'}\n"
     ]
    }
   ],
   "source": [
    "def download_file(url: str, filename: str, temp_dir: str) -> dict:\n",
    "    \"\"\"\n",
    "    Download file from url and save on temp_dir\n",
    "    \"\"\"\n",
    "    temp_file = f\"{temp_dir}/{filename}\"\n",
    "    response = requests.get(url, stream=True)\n",
    "    if response.status_code == 200:\n",
    "        with open(temp_file, \"wb\") as new_file:\n",
    "            for partial in response.iter_content(chunk_size=256):\n",
    "                new_file.write(partial)\n",
    "        return {\"file_path\": temp_file, \"file_name\": filename}\n",
    "    else:\n",
    "        response.raise_for_status()\n",
    "        \n",
    "response = download_file(url, file_name, temp_dir)\n",
    "\n",
    "print(response)\n"
   ]
  },
  {
   "cell_type": "code",
   "execution_count": 8,
   "id": "584fc474",
   "metadata": {},
   "outputs": [],
   "source": [
    "def format_doc(doc):\n",
    "    '''\n",
    "        Funcão que formata CPF e CNPJ\n",
    "    '''\n",
    "    if pd.isna(doc):\n",
    "        return None\n",
    "    doc = re.sub(r\"[^0-9]\", \"\", doc)\n",
    "    return doc.zfill(14)"
   ]
  },
  {
   "cell_type": "code",
   "execution_count": 9,
   "id": "24478acb",
   "metadata": {},
   "outputs": [],
   "source": [
    "import pandas as pd\n",
    "\n",
    "def open_file(file: str):\n",
    "    return pd.read_csv(\n",
    "        file,\n",
    "        sep=\";\",\n",
    "        encoding=\"latin-1\",\n",
    "    )"
   ]
  },
  {
   "cell_type": "code",
   "execution_count": 10,
   "id": "93ea3391",
   "metadata": {},
   "outputs": [],
   "source": [
    "# Abrindo o arquivo com pandas\n",
    "df = open_file(response.get('file_path'))"
   ]
  },
  {
   "cell_type": "code",
   "execution_count": 11,
   "id": "a76bb47c",
   "metadata": {},
   "outputs": [],
   "source": [
    "# Trandando os dados do DataFrame\n",
    "# - 1 Filtrar por tipo de Fundo (Validar com Lucas)\n",
    "# - 1 Limpar dados vazios (Validar com Lucas)\n",
    "# - 2 Formatando o CPF \n",
    "\n",
    "df = df.loc[\n",
    "        (df[\"TP_FUNDO\"] == \"FI\")\n",
    "        | (df[\"TP_FUNDO\"] == \"FIP\")\n",
    "        | (df[\"TP_FUNDO\"] == \"FIIM\")\n",
    "    ]\n",
    "\n",
    "# Format documents\n",
    "df[\"CNPJ_FUNDO\"] = df[\"CNPJ_FUNDO\"].apply(format_doc)\n",
    "\n",
    "# Rename columns\n",
    "rename_map = {\n",
    "    \"CNPJ_FUNDO\": \"fund_doc\",\n",
    "    \"DT_COMPTC\": \"competency_date\",\n",
    "    \"VL_TOTAL\": \"amount\",\n",
    "    \"VL_QUOTA\": \"share_value\",\n",
    "    \"VL_PATRIM_LIQ\": \"equity_value\",\n",
    "    \"NR_COTST\": \"quotaholder_number\",\n",
    "}\n",
    "df = df.rename(columns=rename_map)\n",
    "\n",
    "# Columns to keep\n",
    "cols_keep = [\n",
    "    \"fund_doc\",\n",
    "    \"competency_date\",\n",
    "    \"amount\",\n",
    "    \"share_value\",\n",
    "    \"equity_value\",\n",
    "    \"quotaholder_number\",\n",
    "]\n",
    "df = df[cols_keep]"
   ]
  },
  {
   "cell_type": "code",
   "execution_count": 15,
   "id": "9b0b2e5f",
   "metadata": {},
   "outputs": [],
   "source": [
    "from sqlalchemy import create_engine\n",
    "connect = \"postgresql+psycopg2://%s:%s@%s:54325/%s\" % (\n",
    "    param_dic['user'],\n",
    "    param_dic['password'],\n",
    "    param_dic['host'],\n",
    "    param_dic['database']\n",
    ")\n",
    "def to_alchemy(df):\n",
    "    engine = create_engine(connect)\n",
    "    df.to_sql(\n",
    "        'fi_inf_diario', \n",
    "        con=engine,\n",
    "        schema='cvm_ckan',\n",
    "        index=False, \n",
    "        if_exists='replace'\n",
    "    )\n",
    "    print(\"=== to_sql() done with sqlalchemy ===\")"
   ]
  },
  {
   "cell_type": "code",
   "execution_count": 17,
   "id": "0b3e7101",
   "metadata": {},
   "outputs": [
    {
     "name": "stdout",
     "output_type": "stream",
     "text": [
      "=== to_sql() done with sqlalchemy ===\n"
     ]
    }
   ],
   "source": [
    "to_alchemy(df)"
   ]
  }
 ],
 "metadata": {
  "kernelspec": {
   "display_name": "Python 3 (ipykernel)",
   "language": "python",
   "name": "python3"
  },
  "language_info": {
   "codemirror_mode": {
    "name": "ipython",
    "version": 3
   },
   "file_extension": ".py",
   "mimetype": "text/x-python",
   "name": "python",
   "nbconvert_exporter": "python",
   "pygments_lexer": "ipython3",
   "version": "3.8.10"
  }
 },
 "nbformat": 4,
 "nbformat_minor": 5
}
