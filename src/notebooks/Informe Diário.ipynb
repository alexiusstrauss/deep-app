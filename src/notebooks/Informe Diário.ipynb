{
 "cells": [
  {
   "cell_type": "code",
   "execution_count": 16,
   "id": "eae4b065",
   "metadata": {},
   "outputs": [],
   "source": [
    "# Tratamento do arquivo inf_diario e gravando dados no banco."
   ]
  },
  {
   "cell_type": "code",
   "execution_count": 97,
   "id": "7e56ed66",
   "metadata": {},
   "outputs": [],
   "source": [
    "from CkanDataset import CKANDataSet\n"
   ]
  },
  {
   "cell_type": "code",
   "execution_count": 1,
   "id": "23113990",
   "metadata": {},
   "outputs": [],
   "source": [
    "import os\n",
    "import re\n",
    "import requests"
   ]
  },
  {
   "cell_type": "code",
   "execution_count": 2,
   "id": "e1c48a2f",
   "metadata": {},
   "outputs": [],
   "source": [
    "param_dic = {\n",
    "    \"host\"      : \"localhost\",\n",
    "    \"database\"  : \"postgres\",\n",
    "    \"user\"      : \"postgres\",\n",
    "    \"password\"  : \"postgres\"\n",
    "}"
   ]
  },
  {
   "cell_type": "code",
   "execution_count": 56,
   "id": "5d9266bc",
   "metadata": {},
   "outputs": [],
   "source": [
    "def delete_local_file(file_path: str) -> bool:\n",
    "\n",
    "    if os.path.exists(file_path):\n",
    "        try:\n",
    "            os.remove(file_path)\n",
    "            print(\"File deleted with sucess\")\n",
    "            return True\n",
    "        except OSError as err:\n",
    "            raise OSError(err) from err"
   ]
  },
  {
   "cell_type": "code",
   "execution_count": 33,
   "id": "584fc474",
   "metadata": {},
   "outputs": [],
   "source": [
    "def format_doc(doc):\n",
    "    '''\n",
    "        Funcão que formata CPF e CNPJ\n",
    "    '''\n",
    "    if pd.isna(doc):\n",
    "        return None\n",
    "    doc = re.sub(r\"[^0-9]\", \"\", doc)\n",
    "    return doc.zfill(14)"
   ]
  },
  {
   "cell_type": "code",
   "execution_count": 89,
   "id": "c81111df",
   "metadata": {},
   "outputs": [],
   "source": [
    "url = \"http://dados.cvm.gov.br/dados/FI/DOC/INF_DIARIO/DADOS/inf_diario_fi_201803.csv\"\n",
    "file_name = \"inf_diario_fi_201803.csv\"\n",
    "temp_dir = \"tmp\""
   ]
  },
  {
   "cell_type": "code",
   "execution_count": 90,
   "id": "ff6d9853",
   "metadata": {},
   "outputs": [
    {
     "name": "stdout",
     "output_type": "stream",
     "text": [
      "{'file_path': 'tmp/inf_diario_fi_201803.csv', 'file_name': 'inf_diario_fi_201803.csv', 'date_ref': '201803'}\n"
     ]
    }
   ],
   "source": [
    "def download_file(url: str, filename: str, temp_dir: str) -> dict:\n",
    "    \"\"\"\n",
    "    Download file from url and save on temp_dir\n",
    "    \"\"\"\n",
    "    temp_file = f\"{temp_dir}/{filename}\"\n",
    "    response = requests.get(url, stream=True)\n",
    "    if response.status_code == 200:\n",
    "        with open(temp_file, \"wb\") as new_file:\n",
    "            for partial in response.iter_content(chunk_size=256):\n",
    "                new_file.write(partial)\n",
    "        return {\n",
    "            \"file_path\": temp_file,\n",
    "            \"file_name\": filename,\n",
    "            \"date_ref\": re.sub(r\"[^0-9]\", \"\", url),\n",
    "        }\n",
    "    else:\n",
    "        response.raise_for_status()\n",
    "        \n",
    "response = download_file(url, file_name, temp_dir)\n",
    "\n",
    "print(response)"
   ]
  },
  {
   "cell_type": "code",
   "execution_count": 91,
   "id": "24478acb",
   "metadata": {},
   "outputs": [],
   "source": [
    "import pandas as pd\n",
    "\n",
    "def open_file(file: str):\n",
    "    return pd.read_csv(\n",
    "        file,\n",
    "        sep=\";\",\n",
    "        encoding=\"latin-1\",\n",
    "    )"
   ]
  },
  {
   "cell_type": "code",
   "execution_count": 92,
   "id": "93ea3391",
   "metadata": {},
   "outputs": [],
   "source": [
    "# Abrindo o arquivo com pandas\n",
    "df = open_file(response.get('file_path'))\n",
    "pd.set_option('display.precision', 5)"
   ]
  },
  {
   "cell_type": "code",
   "execution_count": 93,
   "id": "a76bb47c",
   "metadata": {},
   "outputs": [],
   "source": [
    "# Trandando os dados do DataFrame\n",
    "# - 1 Filtrar por tipo de Fundo (Validar com Lucas)\n",
    "# - 1 Limpar dados vazios (Validar com Lucas)\n",
    "# - 2 Formatando o CPF \n",
    "\n",
    "df = df.loc[\n",
    "        (df[\"CNPJ_FUNDO\"] == \"03.168.062/0001-03\")\n",
    "        | (df[\"CNPJ_FUNDO\"] == \"10.237.480/0001-62\")\n",
    "        | (df[\"CNPJ_FUNDO\"] == \"04.515.848/0001-04\")\n",
    "        | (df[\"CNPJ_FUNDO\"] == \"30.921.203/0001-81\")\n",
    "        | (df[\"CNPJ_FUNDO\"] == \"30.910.553/0001-42\")\n",
    "        | (df[\"CNPJ_FUNDO\"] == \"32.102.131/0001-76\")\n",
    "        | (df[\"CNPJ_FUNDO\"] == \"30.910.199/0001-56\")\n",
    "        | (df[\"CNPJ_FUNDO\"] == \"37.368.116/0001-98\")\n",
    "        | (df[\"CNPJ_FUNDO\"] == \"06.041.290/0001-06\")\n",
    "        | (df[\"CNPJ_FUNDO\"] == \"17.414.721/0001-40\")\n",
    "        | (df[\"CNPJ_FUNDO\"] == \"35.927.302/0001-94\")\n",
    "        | (df[\"CNPJ_FUNDO\"] == \"31.353.579/0001-08\")\n",
    "        | (df[\"CNPJ_FUNDO\"] == \"03.879.361/0001-48\")    \n",
    "    ]\n",
    "\n",
    "# Format documents\n",
    "df[\"CNPJ_FUNDO\"] = df[\"CNPJ_FUNDO\"].apply(format_doc)\n",
    "\n",
    "# Rename columns\n",
    "rename_map = {\n",
    "    \"CNPJ_FUNDO\": \"fund_doc\",\n",
    "    \"DT_COMPTC\": \"competency_date\",\n",
    "    \"VL_TOTAL\": \"amount\",\n",
    "    \"VL_QUOTA\": \"share_value\",\n",
    "    \"VL_PATRIM_LIQ\": \"equity_value\",\n",
    "    \"NR_COTST\": \"quotaholder_number\",\n",
    "}\n",
    "df = df.rename(columns=rename_map)\n",
    "\n",
    "# Columns to keep\n",
    "cols_keep = [\n",
    "    \"fund_doc\",\n",
    "    \"competency_date\",\n",
    "    \"amount\",\n",
    "    \"share_value\",\n",
    "    \"equity_value\",\n",
    "    \"quotaholder_number\",\n",
    "]\n",
    "df = df[cols_keep]"
   ]
  },
  {
   "cell_type": "code",
   "execution_count": 94,
   "id": "096b1b5e",
   "metadata": {},
   "outputs": [],
   "source": [
    "# Adicionando a data de referencia do arquivo no dataframe\n",
    "df['data_ref']=response.get('date_ref')"
   ]
  },
  {
   "cell_type": "code",
   "execution_count": 95,
   "id": "9b0b2e5f",
   "metadata": {},
   "outputs": [],
   "source": [
    "from sqlalchemy import create_engine\n",
    "connect = \"postgresql+psycopg2://%s:%s@%s:54325/%s\" % (\n",
    "    param_dic['user'],\n",
    "    param_dic['password'],\n",
    "    param_dic['host'],\n",
    "    param_dic['database']\n",
    ")\n",
    "def save_to_db(df):\n",
    "    engine = create_engine(connect)\n",
    "    df.to_sql(\n",
    "        'fi_inf_diario', \n",
    "        con=engine,\n",
    "        schema='cvm_ckan',\n",
    "        index=False, \n",
    "        if_exists='append'\n",
    "    )\n",
    "    print(\"=== to_sql() done with sqlalchemy ===\")"
   ]
  },
  {
   "cell_type": "code",
   "execution_count": 96,
   "id": "0b3e7101",
   "metadata": {},
   "outputs": [
    {
     "name": "stdout",
     "output_type": "stream",
     "text": [
      "=== to_sql() done with sqlalchemy ===\n",
      "File deleted with sucess\n"
     ]
    },
    {
     "data": {
      "text/plain": [
       "True"
      ]
     },
     "execution_count": 96,
     "metadata": {},
     "output_type": "execute_result"
    }
   ],
   "source": [
    "save_to_db(df)\n",
    "delete_local_file(response.get('file_path'))"
   ]
  }
 ],
 "metadata": {
  "kernelspec": {
   "display_name": "Python 3 (ipykernel)",
   "language": "python",
   "name": "python3"
  },
  "language_info": {
   "codemirror_mode": {
    "name": "ipython",
    "version": 3
   },
   "file_extension": ".py",
   "mimetype": "text/x-python",
   "name": "python",
   "nbconvert_exporter": "python",
   "pygments_lexer": "ipython3",
   "version": "3.8.10"
  }
 },
 "nbformat": 4,
 "nbformat_minor": 5
}
