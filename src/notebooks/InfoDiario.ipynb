{
 "cells": [
  {
   "cell_type": "code",
   "execution_count": null,
   "id": "5b5fbd37",
   "metadata": {},
   "outputs": [],
   "source": [
    "# MZ-Group: alexius.marques@mzgroup.com\n",
    "# Tratamento do arquivo inf_diario e gravando dados no banco.\n",
    "# http://dados.cvm.gov.br/dataset/fi-doc-inf_diario"
   ]
  },
  {
   "cell_type": "code",
   "execution_count": null,
   "id": "5a0ee16c",
   "metadata": {},
   "outputs": [],
   "source": [
    "from cvm import CKANDataSet, generate_versions, start_hunter\n",
    "versoes = generate_versions(2018, 1)"
   ]
  },
  {
   "cell_type": "code",
   "execution_count": null,
   "id": "b35aec2c",
   "metadata": {},
   "outputs": [],
   "source": [
    "if len(versoes):\n",
    "    start_hunter(versoes)\n",
    "    for versao in versoes:\n",
    "        url = f\"http://dados.cvm.gov.br/dados/FI/DOC/INF_DIARIO/DADOS/inf_diario_fi_{versao}.csv\"\n",
    "        file_name = f\"inf_diario_fi_{versao}.csv\"\n",
    "        ckan = CKANDataSet(url, file_name)\n",
    "        ckan.download()\n",
    "        ckan.open_file()\n",
    "        ckan.process_file()\n",
    "        if ckan.save_to_db():\n",
    "            print(\"Dados salvos no Banco de dados\")\n",
    "        if ckan.delete_local_file():\n",
    "            print(f\"Arquivo: {ckan.response.get('file_name')} deletado\")\n",
    "        print(\"==========================================\")\n",
    "            \n",
    "    print(\"Processo finalizado\")"
   ]
  }
 ],
 "metadata": {
  "kernelspec": {
   "display_name": "Python 3 (ipykernel)",
   "language": "python",
   "name": "python3"
  },
  "language_info": {
   "codemirror_mode": {
    "name": "ipython",
    "version": 3
   },
   "file_extension": ".py",
   "mimetype": "text/x-python",
   "name": "python",
   "nbconvert_exporter": "python",
   "pygments_lexer": "ipython3",
   "version": "3.8.10"
  }
 },
 "nbformat": 4,
 "nbformat_minor": 5
}
